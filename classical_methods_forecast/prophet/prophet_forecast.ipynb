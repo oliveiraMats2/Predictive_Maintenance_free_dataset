{
 "cells": [
  {
   "cell_type": "code",
   "execution_count": 43,
   "metadata": {},
   "outputs": [],
   "source": [
    "from matplotlib import pyplot as plt\n",
    "import pandas as pd\n",
    "from prophet import Prophet\n",
    "import numpy as np"
   ]
  },
  {
   "cell_type": "code",
   "execution_count": 44,
   "metadata": {},
   "outputs": [],
   "source": [
    "# Read database\n",
    "input_path = '../Predictive_Maintenance_free_dataset/Datasets/dataset_TPV/base_pump_23042023_A_resampled_1min/base_pump_23042023_A_resampled_1min.csv'     # INPUT\n",
    "df = pd.read_csv(input_path)\n",
    "feature = 'OutletPressure'\n",
    "\n",
    "df = df[['Time', feature]]\n",
    "df['Time'] = pd.to_datetime(df['Time'])\n",
    "df.rename(columns={'Time' : 'ds', feature : 'y'}, inplace=True)\n",
    "\n",
    "# df = df[df['ds'].dt.hour < 6]"
   ]
  },
  {
   "cell_type": "code",
   "execution_count": 45,
   "metadata": {},
   "outputs": [],
   "source": [
    "# Split train and test data\n",
    "\n",
    "# Use it to select future window in frames\n",
    "n_obs = 144*70       # Window forecast for 7 day. (1 frame = 1 min.)\n",
    "\n",
    "# Use it to normalize data\n",
    "# X_train, X_test = normalized_df[0:-n_obs], normalized_df[-n_obs:]\n",
    "# X_train, X_test = normalized_df[0:-n_obs], normalized_df[-n_obs:]\n",
    "\n",
    "# Use it to DO NOT normalize data\n",
    "X_train, X_test = df[0:-n_obs], df[-n_obs:]\n",
    "# X_train, X_test = df[0:-n_obs], df[-n_obs:]"
   ]
  },
  {
   "cell_type": "code",
   "execution_count": 46,
   "metadata": {},
   "outputs": [
    {
     "name": "stderr",
     "output_type": "stream",
     "text": [
      "08:30:09 - cmdstanpy - INFO - Chain [1] start processing\n",
      "08:30:21 - cmdstanpy - INFO - Chain [1] done processing\n"
     ]
    },
    {
     "data": {
      "text/plain": [
       "<prophet.forecaster.Prophet at 0x7fea6e1f3bb0>"
      ]
     },
     "execution_count": 46,
     "metadata": {},
     "output_type": "execute_result"
    }
   ],
   "source": [
    "# Using prophet (fit process)\n",
    "\n",
    "prof = Prophet()\n",
    "prof.fit(X_train)"
   ]
  },
  {
   "cell_type": "code",
   "execution_count": 47,
   "metadata": {},
   "outputs": [],
   "source": [
    "# Make future\n",
    "# period = df.shape[0] + 144*70  # INPUT\n",
    "# # freq_ = pd.to_timedelta(df['ds'][1] - df['ds'][0])\n",
    "# freq_ = '60S'\n",
    "\n",
    "# future = prof.make_future_dataframe(periods=period, freq=freq_)\n",
    "# print(future.tail())\n",
    "\n",
    "\n",
    "# print(\"Input data total interval: \", end='')\n",
    "# print(pd.to_timedelta(df['ds'][df['ds'].last_valid_index()] - df['ds'][0]))\n",
    "# print(\"Input data number of samples: \", end='')\n",
    "# print(df['ds'].last_valid_index())\n",
    "# print(\"Input data period: \", end='')\n",
    "# print(pd.to_timedelta(df['ds'][1] - df['ds'][0]))\n",
    "\n",
    "# print(\"#########\")\n",
    "\n",
    "# print(\"Predict total interval: \", end='')\n",
    "# print(pd.to_timedelta(future['ds'][future['ds'].last_valid_index()] - future['ds'][0]))\n",
    "# print(\"Predict number of samples: \", end='')\n",
    "# print(future['ds'].last_valid_index())\n",
    "# print(\"Predict data period: \", end='')\n",
    "# print(pd.to_timedelta(future['ds'][1] - future['ds'][0]))"
   ]
  },
  {
   "cell_type": "code",
   "execution_count": 48,
   "metadata": {},
   "outputs": [],
   "source": [
    "# print(\"Input data total interval: \", end='')\n",
    "# print(pd.to_timedelta(X_test['ds'][X_test['ds'].last_valid_index()] - X_test['ds'][0]))\n",
    "# print(\"Input data number of samples: \", end='')\n",
    "# print(X_test['ds'].last_valid_index())\n",
    "# print(\"Input data period: \", end='')\n",
    "# print(pd.to_timedelta(X_test['ds'][1] - X_test['ds'][0]))\n",
    "\n",
    "# print(\"#########\")\n",
    "\n",
    "# print(\"Predict total interval: \", end='')\n",
    "# print(pd.to_timedelta(X_train['ds'][X_train['ds'].last_valid_index()] - X_train['ds'][0]))\n",
    "# print(\"Predict number of samples: \", end='')\n",
    "# print(X_train['ds'].last_valid_index())\n",
    "# print(\"Predict data period: \", end='')\n",
    "# print(pd.to_timedelta(X_train['ds'][1] - X_train['ds'][0]))"
   ]
  },
  {
   "cell_type": "code",
   "execution_count": 49,
   "metadata": {},
   "outputs": [],
   "source": [
    "X_test_2 = X_test.copy()\n",
    "\n",
    "future = pd.DataFrame({\"ds\":X_test_2['ds'].tolist()})"
   ]
  },
  {
   "cell_type": "code",
   "execution_count": 50,
   "metadata": {},
   "outputs": [
    {
     "data": {
      "text/plain": [
       "10075    24.232894\n",
       "10076    22.510527\n",
       "10077    20.787706\n",
       "10078    19.064526\n",
       "10079    17.341078\n",
       "Name: yhat, dtype: float64"
      ]
     },
     "execution_count": 50,
     "metadata": {},
     "output_type": "execute_result"
    }
   ],
   "source": [
    "# Forecast\n",
    "forecast = prof.predict(future)\n",
    "forecast[['ds', 'yhat', 'yhat_lower', 'yhat_upper']].tail()\n",
    "\n",
    "forecast['yhat'].tail()"
   ]
  },
  {
   "cell_type": "code",
   "execution_count": 51,
   "metadata": {},
   "outputs": [],
   "source": [
    "# # Full sized plot image\n",
    "# plt.figure()\n",
    "# fig_plot_full = prof.plot(forecast)\n",
    "# # plt.plot_date()\n",
    "# # plt.show\n",
    "# # Detailed plot image\n",
    "# fig_plot = prof.plot(forecast)\n",
    "# plt.ylim(-10,10) # INPUT: Detailed image config\n",
    "# plt.xlim(pd.Timestamp('2023-04-04')) # INPUT: Detailed image config\n",
    "# # Trend plot image\n",
    "# fig_trend = prof.plot_components(forecast)\n"
   ]
  },
  {
   "cell_type": "code",
   "execution_count": 64,
   "metadata": {},
   "outputs": [
    {
     "data": {
      "image/png": "[encoded data removed]",
      "text/plain": [
       "<Figure size 1000x600 with 1 Axes>"
      ]
     },
     "metadata": {},
     "output_type": "display_data"
    },
    {
     "data": {
      "text/plain": [
       "<Figure size 1000x600 with 0 Axes>"
      ]
     },
     "metadata": {},
     "output_type": "display_data"
    }
   ],
   "source": [
    "# Plot image\n",
    "\n",
    "x_axis = 'Date Time'\n",
    "y_axis = feature\n",
    "title = 'forecast'\n",
    "length_circle = 0.1\n",
    "\n",
    "plt.rcParams[\"figure.figsize\"] = (10, 6)\n",
    "plt.rcParams[\"figure.autolayout\"] = True\n",
    "plt.scatter(forecast['ds'], forecast['yhat'], s=length_circle, color=\"cornflowerblue\", label=\"Regression\")\n",
    "plt.scatter(X_test['ds'], X_test['y'], s=length_circle, color=\"purple\", label=\"Test Real\")\n",
    "plt.scatter(X_train['ds'], X_train['y'], s=length_circle, color=\"black\", label=\"Real\")\n",
    "plt.xlabel(x_axis)\n",
    "plt.ylabel(y_axis)\n",
    "plt.title(title)\n",
    "plt.ylim(-.01, 10)\n",
    "plt.grid(True)\n",
    "plt.show()\n",
    "plt.savefig(f'output_prophet/forecast_{feature}.png')"
   ]
  },
  {
   "cell_type": "code",
   "execution_count": 53,
   "metadata": {},
   "outputs": [],
   "source": [
    "# Plot ground truth\n",
    "\n",
    "# plt.figure().set_figwidth(20)\n",
    "# plt.plot_date(X_test['ds'], X_test['y'])"
   ]
  },
  {
   "cell_type": "code",
   "execution_count": 54,
   "metadata": {},
   "outputs": [],
   "source": [
    "# Save generated databse in a file (csv)\n",
    "# import os\n",
    "\n",
    "# head, tail = os.path.split(input_path)\n",
    "# out_filename = 'output/generated_' + tail\n",
    "# out_path = os.path.join(head, out_filename)\n",
    "\n",
    "# if not(os.path.exists(os.path.join(head, 'output'))):\n",
    "#     os.mkdir(os.path.join(head, 'output'))\n",
    "\n",
    "# forecast.to_csv(out_path)\n",
    "\n",
    "# print(\"Finished...\")\n",
    "# print(\"Exporting database: \" + out_path)"
   ]
  },
  {
   "cell_type": "code",
   "execution_count": 55,
   "metadata": {},
   "outputs": [],
   "source": [
    "# Save plot images\n",
    "\n",
    "# out_path_plot = os.path.join(head,\"output/plot_\" + os.path.splitext(tail)[0]+\".png\")\n",
    "# out_path_plot_full = os.path.join(head,\"output/plot_full_\" + os.path.splitext(tail)[0]+\".png\")\n",
    "# out_path_plot_trends = os.path.join(head,\"output/trends_\" + os.path.splitext(tail)[0]+\".png\")\n",
    "\n",
    "# fig_plot.savefig(out_path_plot)\n",
    "# fig_plot_full.savefig(out_path_plot_full)\n",
    "# fig_trend.savefig(out_path_plot_trends)\n",
    "\n",
    "# print(\"Saving plot images (full): \" + out_path_plot_full)\n",
    "# print(\"Saving plot images (detailed): \" + out_path_plot)\n",
    "# print(\"Saving plot images (trends): \" + out_path_plot_trends)"
   ]
  }
 ],
 "metadata": {
  "kernelspec": {
   "display_name": "wilec",
   "language": "python",
   "name": "python3"
  },
  "language_info": {
   "codemirror_mode": {
    "name": "ipython",
    "version": 3
   },
   "file_extension": ".py",
   "mimetype": "text/x-python",
   "name": "python",
   "nbconvert_exporter": "python",
   "pygments_lexer": "ipython3",
   "version": "3.10.9"
  },
  "orig_nbformat": 4,
  "vscode": {
   "interpreter": {
    "hash": "e3332afb60aa9741df4a142f3c9d4086777827649a313b8fe5473faf8de4b54d"
   }
  }
 },
 "nbformat": 4,
 "nbformat_minor": 2
}
