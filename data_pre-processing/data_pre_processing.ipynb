{
 "cells": [
  {
   "attachments": {},
   "cell_type": "markdown",
   "metadata": {},
   "source": [
    "## Procedimentos\n",
    "### Alternativa com frequência fixa\n",
    "1. Selecionar intervalo de tempo do dado de entrada;\n",
    "2. Criar um novo conjunto de dados igualmente espaçados (selecionando-se inicio, frequência e total);\n",
    "3. Concatenar dados dos sensores e ordena-los por meio do timestamp;\n",
    "4. \n",
    "----"
   ]
  },
  {
   "cell_type": "code",
   "execution_count": 61,
   "metadata": {},
   "outputs": [],
   "source": [
    "# Packages and Libraries\n",
    "import pandas as pd\n",
    "import numpy as np"
   ]
  },
  {
   "cell_type": "code",
   "execution_count": 79,
   "metadata": {},
   "outputs": [],
   "source": [
    "# Read database\n",
    "# , parse_dates=[\"Time\"], index_col=\"Time\n",
    "\n",
    "df_wise_x = pd.read_csv('../Datasets/dataset_TPV/base_23042023_A/wise/x.csv')\n",
    "df_wise_x = df_wise_x.rename(columns={'OAVelocity' : 'OAVelocity_x', 'Peakmg' : 'Peakmg_x', 'RMSmg' : 'RMSmg_x',\n",
    "                                      'Kurtosis' : 'Kurtosis_x', 'CrestFactor' : 'CrestFactor_x', 'Skewness' : 'Skewness_x',\n",
    "                                      'Deviation' : 'Deviation_x', 'Peak-to-Peak Displacement' : 'Peak-to-Peak Displacement_x'})\n",
    "\n",
    "df_wise_y = pd.read_csv('../Datasets/dataset_TPV/base_23042023_A/wise/y.csv')\n",
    "df_wise_y = df_wise_y.rename(columns={'OAVelocity' : 'OAVelocity_y', 'Peakmg' : 'Peakmg_y', 'RMSmg' : 'RMSmg_y',\n",
    "                                      'Kurtosis' : 'Kurtosis_y', 'CrestFactor' : 'CrestFactor_y', 'Skewness' : 'Skewness_y',\n",
    "                                      'Deviation' : 'Deviation_y', 'Peak-to-Peak Displacement' : 'Peak-to-Peak Displacement_y'})\n",
    "df_wise_y = df_wise_y.drop('Time', axis='columns')\n",
    "\n",
    "df_wise_z = pd.read_csv('../Datasets/dataset_TPV/base_23042023_A/wise/z.csv')\n",
    "df_wise_z = df_wise_z.rename(columns={'OAVelocity' : 'OAVelocity_z', 'Peakmg' : 'Peakmg_z', 'RMSmg' : 'RMSmg_z',\n",
    "                                      'Kurtosis' : 'Kurtosis_z', 'CrestFactor' : 'CrestFactor_z', 'Skewness' : 'Skewness_z',\n",
    "                                      'Deviation' : 'Deviation_z', 'Peak-to-Peak Displacement' : 'Peak-to-Peak Displacement_z'})\n",
    "df_wise_z = df_wise_z.drop('Time', axis='columns')\n",
    "\n",
    "df_wise = pd.concat([df_wise_x, df_wise_y, df_wise_z], axis=1)\n",
    "df_wise['Time'] = pd.to_datetime(df_wise['Time'])\n",
    "df_wise.set_index('Time', inplace=True)\n",
    "\n",
    "df_ite = pd.read_csv('../Datasets/dataset_TPV/base_23042023_A/ite/ite.csv', parse_dates=[\"Time\"], index_col=\"Time\")\n",
    "# df_ite = df_ite.rename(columns={'Time':'Time_ite'})\n",
    "# print(df_ite.info())\n",
    "\n",
    "df_hexa = pd.read_csv('../Datasets/dataset_TPV/base_23042023_A/hex/hex.csv', parse_dates=[\"Time\"], index_col=\"Time\")\n",
    "# df_hexa = df_hexa.rename(columns={'Time':'Time_hex'})\n",
    "# df.sort_index()\n",
    "# print(df_hexa.info())\n",
    "\n",
    "# # Combine all variables into a single dataframe\n",
    "# df_concat = pd.concat([df_hexa, df_ite, df_wise_x, df_wise_y, df_wise_z],axis=1)\n",
    "df_concat = pd.concat([df_hexa, df_ite, df_wise])\n",
    "df_concat.sort_index(inplace=True)\n",
    "df_concat.to_csv('test_original.csv')\n",
    "# print(df_concat.describe())\n",
    "\n",
    "# print(df_concat.head())"
   ]
  },
  {
   "cell_type": "code",
   "execution_count": 80,
   "metadata": {},
   "outputs": [],
   "source": [
    "# Fill NaN whit the previous value and drop NaN remain values\n",
    "df_concat.fillna(method='pad', inplace=True)\n",
    "df_concat.dropna(inplace=True)\n",
    "\n",
    "# Remove duplicated timestamps keeping the last one\n",
    "df = df_concat[::-1]\n",
    "df = df.iloc[ np.unique( df.index.values, return_index = True )[1] ]\n",
    "\n",
    "# Save new data to csv\n",
    "df.to_csv('test_filled.csv')"
   ]
  },
  {
   "cell_type": "code",
   "execution_count": 90,
   "metadata": {},
   "outputs": [],
   "source": [
    "# Resample data to determined frequency\n",
    "\n",
    "freq = '600S'    # 1 minute\n",
    "df_resampled = df.resample(freq, label='right', closed='right').agg('mean')\n",
    "df_resampled.fillna(method='pad', inplace=True) # Preenche dados com os valores anteriores\n",
    "df_resampled.to_csv('test_resampled_10min.csv')\n"
   ]
  },
  {
   "cell_type": "code",
   "execution_count": 89,
   "metadata": {},
   "outputs": [
    {
     "data": {
      "text/plain": [
       "InletPressure                  0\n",
       "OutletPressure                 0\n",
       "OutletTemperature              0\n",
       "InverterSpeed                  0\n",
       "temperature                    0\n",
       "frequency                      0\n",
       "phaseA_voltage                 0\n",
       "phaseA_current                 0\n",
       "phaseA_pwr_factor              0\n",
       "phaseA_active                  0\n",
       "phaseA_reactive                0\n",
       "phaseB_voltage                 0\n",
       "phaseB_current                 0\n",
       "phaseB_pwr_factor              0\n",
       "phaseB_active                  0\n",
       "phaseB_reactive                0\n",
       "phaseC_voltage                 0\n",
       "phaseC_current                 0\n",
       "phaseC_pwr_factor              0\n",
       "phaseC_active                  0\n",
       "phaseC_reactive                0\n",
       "OAVelocity_x                   0\n",
       "Peakmg_x                       0\n",
       "RMSmg_x                        0\n",
       "Kurtosis_x                     0\n",
       "CrestFactor_x                  0\n",
       "Skewness_x                     0\n",
       "Deviation_x                    0\n",
       "Peak-to-Peak Displacement_x    0\n",
       "OAVelocity_y                   0\n",
       "Peakmg_y                       0\n",
       "RMSmg_y                        0\n",
       "Kurtosis_y                     0\n",
       "CrestFactor_y                  0\n",
       "Skewness_y                     0\n",
       "Deviation_y                    0\n",
       "Peak-to-Peak Displacement_y    0\n",
       "OAVelocity_z                   0\n",
       "Peakmg_z                       0\n",
       "RMSmg_z                        0\n",
       "Kurtosis_z                     0\n",
       "CrestFactor_z                  0\n",
       "Skewness_z                     0\n",
       "Deviation_z                    0\n",
       "Peak-to-Peak Displacement_z    0\n",
       "dtype: int64"
      ]
     },
     "execution_count": 89,
     "metadata": {},
     "output_type": "execute_result"
    }
   ],
   "source": [
    "df_resampled.isna().sum()"
   ]
  },
  {
   "cell_type": "code",
   "execution_count": 88,
   "metadata": {},
   "outputs": [
    {
     "name": "stdout",
     "output_type": "stream",
     "text": [
      "0 days 00:01:00\n",
      "0 days 00:01:00\n",
      "0 days 00:01:00\n",
      "0   0 days 00:01:00\n",
      "Name: Period, dtype: timedelta64[ns]\n",
      "0 days 00:01:00    81334\n",
      "Name: Period, dtype: int64\n"
     ]
    }
   ],
   "source": [
    "df_period = pd.read_csv('test_resampled.csv')\n",
    "df_period['Time'] = pd.to_datetime(df_period['Time'])\n",
    "df_period['Period'] = df_period['Time'].diff()\n",
    "\n",
    "df1 = df_period['Period'].value_counts()\n",
    "print(df_period['Period'].max())\n",
    "print(df_period['Period'].mean())\n",
    "print(df_period['Period'].min())\n",
    "print(df_period['Period'].mode())\n",
    "\n",
    "print(df1.sort_index())"
   ]
  }
 ],
 "metadata": {
  "kernelspec": {
   "display_name": "wilec",
   "language": "python",
   "name": "python3"
  },
  "language_info": {
   "codemirror_mode": {
    "name": "ipython",
    "version": 3
   },
   "file_extension": ".py",
   "mimetype": "text/x-python",
   "name": "python",
   "nbconvert_exporter": "python",
   "pygments_lexer": "ipython3",
   "version": "3.10.9"
  },
  "orig_nbformat": 4
 },
 "nbformat": 4,
 "nbformat_minor": 2
}
