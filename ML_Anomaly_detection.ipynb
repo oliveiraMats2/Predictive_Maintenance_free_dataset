{
  "nbformat": 4,
  "nbformat_minor": 0,
  "metadata": {
    "colab": {
      "provenance": []
    },
    "kernelspec": {
      "name": "python3",
      "display_name": "Python 3"
    },
    "language_info": {
      "name": "python"
    },
    "accelerator": "GPU",
    "gpuClass": "standard"
  },
  "cells": [
    {
      "cell_type": "markdown",
      "source": [
        "#DATA IMPORT"
      ],
      "metadata": {
        "id": "ZM2OT3T27w3v"
      }
    },
    {
      "cell_type": "code",
      "execution_count": 1,
      "metadata": {
        "id": "ZHxAKp3wlmR5"
      },
      "outputs": [],
      "source": [
        "import pandas as pd\n",
        "import numpy as np"
      ]
    },
    {
      "cell_type": "code",
      "source": [
        "path_data = '/content/drive/MyDrive/Wile_C/ai4i2020.csv'\n",
        "\n",
        "data = pd.read_csv(path_data)\n",
        "print(data)"
      ],
      "metadata": {
        "colab": {
          "base_uri": "https://localhost:8080/"
        },
        "id": "ADelvOfXmBH0",
        "outputId": "35499bbe-231a-46bb-e6b5-7bb10c602a25"
      },
      "execution_count": 2,
      "outputs": [
        {
          "output_type": "stream",
          "name": "stdout",
          "text": [
            "        UDI Product ID Type  Air temperature [K]  Process temperature [K]  \\\n",
            "0         1     M14860    M                298.1                    308.6   \n",
            "1         2     L47181    L                298.2                    308.7   \n",
            "2         3     L47182    L                298.1                    308.5   \n",
            "3         4     L47183    L                298.2                    308.6   \n",
            "4         5     L47184    L                298.2                    308.7   \n",
            "...     ...        ...  ...                  ...                      ...   \n",
            "9995   9996     M24855    M                298.8                    308.4   \n",
            "9996   9997     H39410    H                298.9                    308.4   \n",
            "9997   9998     M24857    M                299.0                    308.6   \n",
            "9998   9999     H39412    H                299.0                    308.7   \n",
            "9999  10000     M24859    M                299.0                    308.7   \n",
            "\n",
            "      Rotational speed [rpm]  Torque [Nm]  Tool wear [min]  Machine failure  \\\n",
            "0                       1551         42.8                0                0   \n",
            "1                       1408         46.3                3                0   \n",
            "2                       1498         49.4                5                0   \n",
            "3                       1433         39.5                7                0   \n",
            "4                       1408         40.0                9                0   \n",
            "...                      ...          ...              ...              ...   \n",
            "9995                    1604         29.5               14                0   \n",
            "9996                    1632         31.8               17                0   \n",
            "9997                    1645         33.4               22                0   \n",
            "9998                    1408         48.5               25                0   \n",
            "9999                    1500         40.2               30                0   \n",
            "\n",
            "      TWF  HDF  PWF  OSF  RNF  \n",
            "0       0    0    0    0    0  \n",
            "1       0    0    0    0    0  \n",
            "2       0    0    0    0    0  \n",
            "3       0    0    0    0    0  \n",
            "4       0    0    0    0    0  \n",
            "...   ...  ...  ...  ...  ...  \n",
            "9995    0    0    0    0    0  \n",
            "9996    0    0    0    0    0  \n",
            "9997    0    0    0    0    0  \n",
            "9998    0    0    0    0    0  \n",
            "9999    0    0    0    0    0  \n",
            "\n",
            "[10000 rows x 14 columns]\n"
          ]
        }
      ]
    },
    {
      "cell_type": "code",
      "source": [
        "failure = []\n",
        "for i in range(len(data)):\n",
        "  if data['Machine failure'][i] == 1:\n",
        "    failure.append(i)\n",
        "print(len(failure))"
      ],
      "metadata": {
        "colab": {
          "base_uri": "https://localhost:8080/"
        },
        "id": "qLkx-normqAg",
        "outputId": "1c1f396f-d7dc-401c-e246-59ca81268320"
      },
      "execution_count": 3,
      "outputs": [
        {
          "output_type": "stream",
          "name": "stdout",
          "text": [
            "339\n"
          ]
        }
      ]
    },
    {
      "cell_type": "code",
      "source": [
        "X = np.array([data['Air temperature [K]'], data['Process temperature [K]'], data['Rotational speed [rpm]'], data['Torque [Nm]'], data['Tool wear [min]']])\n",
        "X = np.transpose(X)\n",
        "print(X.shape)"
      ],
      "metadata": {
        "colab": {
          "base_uri": "https://localhost:8080/"
        },
        "id": "NG3H-gRLnfQ5",
        "outputId": "a97a521f-18ef-458d-dbb1-88e379a0c02c"
      },
      "execution_count": 4,
      "outputs": [
        {
          "output_type": "stream",
          "name": "stdout",
          "text": [
            "(10000, 5)\n"
          ]
        }
      ]
    },
    {
      "cell_type": "code",
      "source": [
        "y = np.array(data['Machine failure'])\n",
        "print(y.shape)"
      ],
      "metadata": {
        "colab": {
          "base_uri": "https://localhost:8080/"
        },
        "id": "sUBlQwXaoTeP",
        "outputId": "efedcfe6-5f8b-4988-bb90-848973ed553c"
      },
      "execution_count": 5,
      "outputs": [
        {
          "output_type": "stream",
          "name": "stdout",
          "text": [
            "(10000,)\n"
          ]
        }
      ]
    },
    {
      "cell_type": "code",
      "source": [
        "from pandas.core.common import random_state\n",
        "from sklearn.model_selection import train_test_split\n",
        "\n",
        "X_train, X_test, y_train, y_test = train_test_split(X, y, test_size=0.3, random_state=42)\n",
        "print(X_train.shape, X_test.shape, y_train.shape, y_test.shape)"
      ],
      "metadata": {
        "colab": {
          "base_uri": "https://localhost:8080/"
        },
        "id": "yfgHwlKPoaWG",
        "outputId": "227cc9da-e8d5-44e1-dfe8-cd1f6188c9f2"
      },
      "execution_count": 6,
      "outputs": [
        {
          "output_type": "stream",
          "name": "stdout",
          "text": [
            "(7000, 5) (3000, 5) (7000,) (3000,)\n"
          ]
        }
      ]
    },
    {
      "cell_type": "markdown",
      "source": [
        "#LINEAR REGRESSION"
      ],
      "metadata": {
        "id": "B7lmohKh75fy"
      }
    },
    {
      "cell_type": "code",
      "source": [
        "from sklearn.linear_model import LinearRegression\n",
        "\n",
        "reg_linear = LinearRegression().fit(X_train, y_train)"
      ],
      "metadata": {
        "id": "hnZaLhSKuppX"
      },
      "execution_count": 7,
      "outputs": []
    },
    {
      "cell_type": "code",
      "source": [
        "reg_linear.score(X_train, y_train)"
      ],
      "metadata": {
        "colab": {
          "base_uri": "https://localhost:8080/"
        },
        "id": "i7CMvUMYvBIv",
        "outputId": "0fdfce60-ba4e-4659-b177-0fad83c6f8e1"
      },
      "execution_count": 8,
      "outputs": [
        {
          "output_type": "execute_result",
          "data": {
            "text/plain": [
              "0.12071606781711175"
            ]
          },
          "metadata": {},
          "execution_count": 8
        }
      ]
    },
    {
      "cell_type": "code",
      "source": [
        "reg_linear.coef_"
      ],
      "metadata": {
        "colab": {
          "base_uri": "https://localhost:8080/"
        },
        "id": "KcgKrZ8WvD5c",
        "outputId": "ad8870d1-64c6-46c8-b6b1-24d09db472ec"
      },
      "execution_count": 9,
      "outputs": [
        {
          "output_type": "execute_result",
          "data": {
            "text/plain": [
              "array([ 0.02135108, -0.02006165,  0.00051241,  0.01150624,  0.00032186])"
            ]
          },
          "metadata": {},
          "execution_count": 9
        }
      ]
    },
    {
      "cell_type": "code",
      "source": [
        "predict = reg_linear.predict(X_test)"
      ],
      "metadata": {
        "id": "1GcO7ifRvMlG"
      },
      "execution_count": 10,
      "outputs": []
    },
    {
      "cell_type": "code",
      "source": [
        "for i in range(len(predict)):\n",
        "  if predict[i] < 0.1:\n",
        "    predict[i] = 0\n",
        "  else:\n",
        "    predict[i] = 1\n",
        "print(predict)"
      ],
      "metadata": {
        "colab": {
          "base_uri": "https://localhost:8080/"
        },
        "id": "PzXhPBqtvWoI",
        "outputId": "b1cd0fd8-0e2a-4bc1-cc16-dd90b06636bc"
      },
      "execution_count": 11,
      "outputs": [
        {
          "output_type": "stream",
          "name": "stdout",
          "text": [
            "[0. 0. 0. ... 0. 0. 0.]\n"
          ]
        }
      ]
    },
    {
      "cell_type": "code",
      "source": [
        "count = 0\n",
        "for i in range(len(predict)):\n",
        "  if predict[i] == y_test[i]:\n",
        "    count += 1\n",
        "\n",
        "print(count)"
      ],
      "metadata": {
        "colab": {
          "base_uri": "https://localhost:8080/"
        },
        "id": "6G85m-Rgvhij",
        "outputId": "e06c7e79-9c17-467e-8485-3742da38285e"
      },
      "execution_count": 12,
      "outputs": [
        {
          "output_type": "stream",
          "name": "stdout",
          "text": [
            "2639\n"
          ]
        }
      ]
    },
    {
      "cell_type": "code",
      "source": [
        "acc = count/len(predict)"
      ],
      "metadata": {
        "id": "CvP0-uwNwWRW"
      },
      "execution_count": 13,
      "outputs": []
    },
    {
      "cell_type": "code",
      "source": [
        "print(acc)"
      ],
      "metadata": {
        "colab": {
          "base_uri": "https://localhost:8080/"
        },
        "id": "IgPKrUD6waOU",
        "outputId": "42b18cc4-7707-4800-a191-2d335df8d33b"
      },
      "execution_count": 14,
      "outputs": [
        {
          "output_type": "stream",
          "name": "stdout",
          "text": [
            "0.8796666666666667\n"
          ]
        }
      ]
    },
    {
      "cell_type": "code",
      "source": [
        "failure_test = []\n",
        "for i in range(len(y_test)):\n",
        "  if y_test[i] == 1:\n",
        "    failure_test.append(i)\n",
        "print(len(failure_test))"
      ],
      "metadata": {
        "colab": {
          "base_uri": "https://localhost:8080/"
        },
        "id": "wEAsXkp0wy1P",
        "outputId": "04d8722c-f898-461a-cf9f-42357e6ffe05"
      },
      "execution_count": 15,
      "outputs": [
        {
          "output_type": "stream",
          "name": "stdout",
          "text": [
            "93\n"
          ]
        }
      ]
    },
    {
      "cell_type": "code",
      "source": [
        "from sklearn.metrics import confusion_matrix\n",
        "print(confusion_matrix(y_test, predict))"
      ],
      "metadata": {
        "colab": {
          "base_uri": "https://localhost:8080/"
        },
        "id": "gIGoREJz7WVr",
        "outputId": "f7288b3c-9631-44a5-be85-02857f670e41"
      },
      "execution_count": 16,
      "outputs": [
        {
          "output_type": "stream",
          "name": "stdout",
          "text": [
            "[[2572  335]\n",
            " [  26   67]]\n"
          ]
        }
      ]
    },
    {
      "cell_type": "markdown",
      "source": [
        "#KNN"
      ],
      "metadata": {
        "id": "P5IKJQYe50Uk"
      }
    },
    {
      "cell_type": "code",
      "source": [
        "from sklearn.neighbors import KNeighborsClassifier\n",
        "\n",
        "neigh = KNeighborsClassifier(n_neighbors=2)\n",
        "neigh.fit(X_train, y_train)"
      ],
      "metadata": {
        "colab": {
          "base_uri": "https://localhost:8080/"
        },
        "id": "SXcRX2y-4-Jk",
        "outputId": "1c75402f-0588-4e59-b52a-b2025d72608f"
      },
      "execution_count": 17,
      "outputs": [
        {
          "output_type": "execute_result",
          "data": {
            "text/plain": [
              "KNeighborsClassifier(n_neighbors=2)"
            ]
          },
          "metadata": {},
          "execution_count": 17
        }
      ]
    },
    {
      "cell_type": "code",
      "source": [
        "predict = neigh.predict(X_test)\n",
        "print(predict)"
      ],
      "metadata": {
        "colab": {
          "base_uri": "https://localhost:8080/"
        },
        "id": "Govj6Hi35UJe",
        "outputId": "50046193-3df6-4c79-9443-968f06190db7"
      },
      "execution_count": 18,
      "outputs": [
        {
          "output_type": "stream",
          "name": "stdout",
          "text": [
            "[0 0 0 ... 0 0 0]\n"
          ]
        }
      ]
    },
    {
      "cell_type": "code",
      "source": [
        "count = 0\n",
        "for i in range(len(predict)):\n",
        "  if predict[i] == y_test[i]:\n",
        "    count += 1\n",
        "\n",
        "print(count)"
      ],
      "metadata": {
        "colab": {
          "base_uri": "https://localhost:8080/"
        },
        "id": "MtjonxoQ5e6a",
        "outputId": "c33036d0-77ad-4bab-a7ee-98d08329375a"
      },
      "execution_count": 19,
      "outputs": [
        {
          "output_type": "stream",
          "name": "stdout",
          "text": [
            "2910\n"
          ]
        }
      ]
    },
    {
      "cell_type": "code",
      "source": [
        "acc = count/len(predict)"
      ],
      "metadata": {
        "id": "HAytOCBB8E2n"
      },
      "execution_count": 20,
      "outputs": []
    },
    {
      "cell_type": "code",
      "source": [
        "print(acc)"
      ],
      "metadata": {
        "colab": {
          "base_uri": "https://localhost:8080/"
        },
        "id": "bInW7FMh8I5D",
        "outputId": "a19e0002-fcee-49cf-ec5e-bc504a3a3d53"
      },
      "execution_count": 21,
      "outputs": [
        {
          "output_type": "stream",
          "name": "stdout",
          "text": [
            "0.97\n"
          ]
        }
      ]
    },
    {
      "cell_type": "code",
      "source": [
        "from sklearn.metrics import confusion_matrix\n",
        "print(confusion_matrix(y_test, predict))"
      ],
      "metadata": {
        "colab": {
          "base_uri": "https://localhost:8080/"
        },
        "id": "5dSmAb7O5io-",
        "outputId": "944aa886-f7bb-4a09-edaa-f31a8f29db7f"
      },
      "execution_count": 22,
      "outputs": [
        {
          "output_type": "stream",
          "name": "stdout",
          "text": [
            "[[2900    7]\n",
            " [  83   10]]\n"
          ]
        }
      ]
    },
    {
      "cell_type": "markdown",
      "source": [
        "#RANDOM FOREST"
      ],
      "metadata": {
        "id": "TtCfu2KZ8Rm1"
      }
    },
    {
      "cell_type": "code",
      "source": [
        "from sklearn.ensemble import RandomForestClassifier\n",
        "\n",
        "clf = RandomForestClassifier()\n",
        "clf.fit(X_train, y_train)"
      ],
      "metadata": {
        "colab": {
          "base_uri": "https://localhost:8080/"
        },
        "id": "suZEsFPD8UBG",
        "outputId": "3db9ec1a-39db-45c4-996c-09521ad4ca31"
      },
      "execution_count": 23,
      "outputs": [
        {
          "output_type": "execute_result",
          "data": {
            "text/plain": [
              "RandomForestClassifier()"
            ]
          },
          "metadata": {},
          "execution_count": 23
        }
      ]
    },
    {
      "cell_type": "code",
      "source": [
        "predict = clf.predict(X_test)\n",
        "print(predict)"
      ],
      "metadata": {
        "colab": {
          "base_uri": "https://localhost:8080/"
        },
        "id": "vx6UC6Rx8o8D",
        "outputId": "6fae5015-8693-409d-d476-49708d44ac88"
      },
      "execution_count": 24,
      "outputs": [
        {
          "output_type": "stream",
          "name": "stdout",
          "text": [
            "[0 0 0 ... 0 0 0]\n"
          ]
        }
      ]
    },
    {
      "cell_type": "code",
      "source": [
        "count = 0\n",
        "for i in range(len(predict)):\n",
        "  if predict[i] == y_test[i]:\n",
        "    count += 1\n",
        "\n",
        "print(count)"
      ],
      "metadata": {
        "colab": {
          "base_uri": "https://localhost:8080/"
        },
        "id": "fAQs7GZw8yVg",
        "outputId": "899264dd-746c-48bf-9a0d-62350040f113"
      },
      "execution_count": 25,
      "outputs": [
        {
          "output_type": "stream",
          "name": "stdout",
          "text": [
            "2957\n"
          ]
        }
      ]
    },
    {
      "cell_type": "code",
      "source": [
        "acc = count/len(predict)"
      ],
      "metadata": {
        "id": "-vautNTb80rG"
      },
      "execution_count": 26,
      "outputs": []
    },
    {
      "cell_type": "code",
      "source": [
        "print(acc)"
      ],
      "metadata": {
        "colab": {
          "base_uri": "https://localhost:8080/"
        },
        "id": "bk3YiTV-81i-",
        "outputId": "5f914a83-e733-462d-d280-bf0fa30a0b9c"
      },
      "execution_count": 27,
      "outputs": [
        {
          "output_type": "stream",
          "name": "stdout",
          "text": [
            "0.9856666666666667\n"
          ]
        }
      ]
    },
    {
      "cell_type": "code",
      "source": [
        "from sklearn.metrics import confusion_matrix\n",
        "print(confusion_matrix(y_test, predict))"
      ],
      "metadata": {
        "colab": {
          "base_uri": "https://localhost:8080/"
        },
        "id": "-cMv-Zuo84xU",
        "outputId": "1475c5d3-7b15-4c49-b273-ea9f44bea7ec"
      },
      "execution_count": 28,
      "outputs": [
        {
          "output_type": "stream",
          "name": "stdout",
          "text": [
            "[[2897   10]\n",
            " [  33   60]]\n"
          ]
        }
      ]
    }
  ]
}