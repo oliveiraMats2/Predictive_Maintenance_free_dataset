{
 "cells": [
  {
   "cell_type": "code",
   "execution_count": 1,
   "id": "d5f2faa4",
   "metadata": {},
   "outputs": [
    {
     "data": {
      "text/plain": [
       "<Figure size 640x480 with 0 Axes>"
      ]
     },
     "metadata": {},
     "output_type": "display_data"
    }
   ],
   "source": [
    "import sys\n",
    "sys.path.insert(0, \"/mnt/arquivos_linux/wile_C/Predictive_Maintenance_free_dataset/\")\n",
    "import torch\n",
    "from matplotlib.pyplot import figure\n",
    "import numpy as np\n",
    "from datasets import DatasetSinteticUnsupervised\n",
    "from utils.read_dataset import ReadDatasets\n",
    "\n",
    "figure(figsize=(8, 6), dpi=80)\n",
    "\n",
    "limiter = 2000\n",
    "\n",
    "ABS_PATH = '/mnt/arquivos_linux/wile_C/Predictive_Maintenance_free_dataset'\n",
    "\n",
    "# test_dataset = DatasetSinteticUnsupervised(dir_data=f'{ABS_PATH}/Datasets/sintetic_data/test_compressor_data.h5',\n",
    "#                                            context=400)\n",
    "\n",
    "# test_loader = torch.utils.data.DataLoader(\n",
    "#                 test_dataset, batch_size=1, shuffle=False\n",
    "#                 )"
   ]
  },
  {
   "cell_type": "code",
   "execution_count": 2,
   "id": "faeee057",
   "metadata": {},
   "outputs": [],
   "source": [
    "data = ReadDatasets.read_h5(f'{ABS_PATH}/Datasets/sintetic_data/test_compressor_data.h5')\n",
    "\n",
    "data = np.array(data)"
   ]
  },
  {
   "cell_type": "code",
   "execution_count": 3,
   "id": "9e9865eb",
   "metadata": {},
   "outputs": [],
   "source": [
    "def union_vector(data_predict:dict):\n",
    "    \n",
    "    x_concat = data_predict['begin']\n",
    "    \n",
    "    del data_predict['begin']\n",
    "    \n",
    "    keys_predicted = list(data_predict.keys())\n",
    "    \n",
    "    for key in keys_predicted:\n",
    "        x_concat = torch.concat((x_concat, data_predict[key]), dim=1)\n",
    "        \n",
    "        del data_predict[key]\n",
    "    \n",
    "    return x_concat"
   ]
  },
  {
   "cell_type": "code",
   "execution_count": 4,
   "id": "cafccb51",
   "metadata": {},
   "outputs": [
    {
     "data": {
      "text/plain": [
       "torch.Size([1, 400, 4])"
      ]
     },
     "execution_count": 4,
     "metadata": {},
     "output_type": "execute_result"
    }
   ],
   "source": [
    "data_predict = torch.load(f\"{ABS_PATH}/sintetic_generate_data.pt\")\n",
    "\n",
    "data_predict['begin'].shape"
   ]
  },
  {
   "cell_type": "code",
   "execution_count": 5,
   "id": "2203f690",
   "metadata": {},
   "outputs": [],
   "source": [
    "vet_predict = union_vector(data_predict)"
   ]
  },
  {
   "cell_type": "code",
   "execution_count": 6,
   "id": "1e70dd93",
   "metadata": {},
   "outputs": [
    {
     "data": {
      "text/plain": [
       "torch.Size([1, 13000, 4])"
      ]
     },
     "execution_count": 6,
     "metadata": {},
     "output_type": "execute_result"
    }
   ],
   "source": [
    "vet_predict.shape"
   ]
  },
  {
   "cell_type": "code",
   "execution_count": 7,
   "id": "a69ee792",
   "metadata": {},
   "outputs": [],
   "source": [
    "frequency = 65 #Hz\n",
    "time = 10 #sec\n",
    "slot = 10000\n",
    "\n",
    "recons = vet_predict.reshape(-1, time, frequency, 4).numpy()"
   ]
  },
  {
   "cell_type": "code",
   "execution_count": 8,
   "id": "c35a9aa9",
   "metadata": {},
   "outputs": [
    {
     "data": {
      "text/plain": [
       "(20, 10, 65, 4)"
      ]
     },
     "execution_count": 8,
     "metadata": {},
     "output_type": "execute_result"
    }
   ],
   "source": [
    "recons.shape"
   ]
  },
  {
   "cell_type": "markdown",
   "id": "25f6ce46",
   "metadata": {},
   "source": [
    "## Change data avaliable Test"
   ]
  },
  {
   "cell_type": "code",
   "execution_count": 21,
   "id": "210b2a29",
   "metadata": {},
   "outputs": [
    {
     "name": "stdout",
     "output_type": "stream",
     "text": [
      "(20, 10, 65, 4)\n"
     ]
    }
   ],
   "source": [
    "from sklearn import preprocessing\n",
    "\n",
    "frequency = 65 #Hz\n",
    "time = 10 #sec\n",
    "slot = 20 # reconstruction positional recons.shape[0]\n",
    "\n",
    "factor = 1\n",
    "\n",
    "#factor = 1 # para achar o threshold\n",
    "#factor = 2 # Para avaliar o threshold\n",
    "\n",
    "data = np.ones((slot, time, frequency, 4))\n",
    "for i in range(len(data)):\n",
    "  for j in range(len(data[i])):\n",
    "    data[i][j] = np.transpose(np.array([np.random.normal(1026.84, factor*18, frequency), \n",
    "                                        np.random.normal(26.52, factor*12, frequency),\n",
    "                                        np.random.normal(84.58, factor*5, frequency),\n",
    "                                        np.random.normal(100, factor*5, frequency)]))\n",
    "\n",
    "for i in range(len(data)):\n",
    "  for j in range(len(data[i])):\n",
    "    data[i][j] = preprocessing.normalize(data[i][j])\n",
    "\n",
    "print(data.shape)"
   ]
  },
  {
   "cell_type": "markdown",
   "id": "e898d7ec",
   "metadata": {},
   "source": [
    "## Avaliable model"
   ]
  },
  {
   "cell_type": "code",
   "execution_count": 22,
   "id": "4747e223",
   "metadata": {},
   "outputs": [
    {
     "name": "stdout",
     "output_type": "stream",
     "text": [
      "[1.229587398024771, 0.5111189724333757, 0.2620396320603131, 0.16281557589014223, 0.3000050486103717, 0.08869179048326897, 0.5435503865538149, 0.3946481800160774, 0.7118414702273923, 0.0905983433964043, 0.6918589878026336, 0.5025464392206366, 0.2502752042159938, 0.5583553493368224, 0.511523509812467, 0.1225960211046872, 0.7277259669637733, 0.3342148770825443, 0.4414303654927644, 0.08327243733853204]\n"
     ]
    }
   ],
   "source": [
    "recons_error = []\n",
    "for i in range(len(recons)):\n",
    "    recons_error.append(np.sqrt((np.sum(data[i]-recons[i]))**2))\n",
    "    \n",
    "print(recons_error)"
   ]
  },
  {
   "cell_type": "code",
   "execution_count": 23,
   "id": "56be1b5b",
   "metadata": {},
   "outputs": [
    {
     "name": "stdout",
     "output_type": "stream",
     "text": [
      "0.7024549778940452\n"
     ]
    }
   ],
   "source": [
    "print(np.mean(recons_error) + np.std(recons_error))"
   ]
  },
  {
   "cell_type": "code",
   "execution_count": 24,
   "id": "d3291bc4",
   "metadata": {},
   "outputs": [
    {
     "data": {
      "text/plain": [
       "0.4259347978033393"
      ]
     },
     "execution_count": 24,
     "metadata": {},
     "output_type": "execute_result"
    }
   ],
   "source": [
    "np.mean(recons_error)"
   ]
  },
  {
   "cell_type": "code",
   "execution_count": 25,
   "id": "6178baeb",
   "metadata": {},
   "outputs": [
    {
     "data": {
      "text/plain": [
       "0.2765201800907059"
      ]
     },
     "execution_count": 25,
     "metadata": {},
     "output_type": "execute_result"
    }
   ],
   "source": [
    "np.std(recons_error)"
   ]
  },
  {
   "cell_type": "code",
   "execution_count": 26,
   "id": "398a34b7",
   "metadata": {},
   "outputs": [
    {
     "name": "stdout",
     "output_type": "stream",
     "text": [
      "4\n",
      "0.2\n"
     ]
    }
   ],
   "source": [
    "count = 0\n",
    "for i in range(len(recons_error)):\n",
    "    if recons_error[i] > 0.65:\n",
    "        count += 1\n",
    "\n",
    "print(count)  \n",
    "print(count/len(recons_error))"
   ]
  },
  {
   "cell_type": "code",
   "execution_count": null,
   "id": "c97c1ce4",
   "metadata": {},
   "outputs": [],
   "source": []
  },
  {
   "cell_type": "code",
   "execution_count": null,
   "id": "18b9dff5",
   "metadata": {},
   "outputs": [],
   "source": []
  }
 ],
 "metadata": {
  "kernelspec": {
   "display_name": "Python 3 (ipykernel)",
   "language": "python",
   "name": "python3"
  },
  "language_info": {
   "codemirror_mode": {
    "name": "ipython",
    "version": 3
   },
   "file_extension": ".py",
   "mimetype": "text/x-python",
   "name": "python",
   "nbconvert_exporter": "python",
   "pygments_lexer": "ipython3",
   "version": "3.9.7"
  }
 },
 "nbformat": 4,
 "nbformat_minor": 5
}
