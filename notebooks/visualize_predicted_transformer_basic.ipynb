{
 "cells": [
  {
   "cell_type": "code",
   "execution_count": 64,
   "id": "d5f2faa4",
   "metadata": {},
   "outputs": [
    {
     "name": "stderr",
     "output_type": "stream",
     "text": [
      "100%|██████████████████████████████████████████████████████████████████████████████████████████████████████████████████████████████████████████████████████████████████████████████████████████████████████████████████████████| 25600/25600 [00:00<00:00, 1437097.57it/s]"
     ]
    },
    {
     "name": "stdout",
     "output_type": "stream",
     "text": [
      "len dataset:25600\n"
     ]
    },
    {
     "name": "stderr",
     "output_type": "stream",
     "text": [
      "\n"
     ]
    },
    {
     "data": {
      "text/plain": [
       "<Figure size 640x480 with 0 Axes>"
      ]
     },
     "metadata": {},
     "output_type": "display_data"
    }
   ],
   "source": [
    "import sys\n",
    "sys.path.insert(0, \"/mnt/arquivos_linux/wile_C/Predictive_Maintenance_free_dataset/\")\n",
    "import torch\n",
    "from matplotlib.pyplot import figure\n",
    "from datasets import DatasetSinteticUnsupervisedLSTM\n",
    "\n",
    "figure(figsize=(8, 6), dpi=80)\n",
    "\n",
    "limiter = 2000\n",
    "\n",
    "# ABS_PATH = '/mnt/arquivos_linux/wile_C/Predictive_Maintenance_free_dataset'\n",
    "\n",
    "test_dataset = DatasetSinteticUnsupervisedLSTM(dir_data='../Datasets/sintetic_dataset/26000_points/train_compressor_data.h5',\n",
    "                                               context=400,\n",
    "                                               stride=1)\n",
    "\n",
    "test_loader = torch.utils.data.DataLoader(\n",
    "                test_dataset, batch_size=1, shuffle=False\n",
    "                )"
   ]
  },
  {
   "cell_type": "code",
   "execution_count": 65,
   "id": "9e9865eb",
   "metadata": {},
   "outputs": [],
   "source": [
    "def union_vector_predicted_dict(data_predict:dict):\n",
    "    \n",
    "    x_concat = data_predict[0]\n",
    "    \n",
    "    del data_predict[0]\n",
    "    \n",
    "    keys_predicted = list(data_predict.keys())\n",
    "    \n",
    "    for key in keys_predicted:\n",
    "        x_concat = torch.concat((x_concat, data_predict[key]), dim=1)\n",
    "        #x_concat = torch.concat((x_concat, data_predict[key]), dim=2)\n",
    "        \n",
    "        del data_predict[key]\n",
    "    \n",
    "    return x_concat"
   ]
  },
  {
   "cell_type": "code",
   "execution_count": 78,
   "id": "cafccb51",
   "metadata": {},
   "outputs": [],
   "source": [
    "data_predict = torch.load(f\"../models_h5/generate_evaluate/sintetic_generate_data_transformer_26000.pt\")"
   ]
  },
  {
   "cell_type": "code",
   "execution_count": 79,
   "id": "90276881",
   "metadata": {},
   "outputs": [
    {
     "data": {
      "text/plain": [
       "torch.Size([1, 1, 1])"
      ]
     },
     "execution_count": 79,
     "metadata": {},
     "output_type": "execute_result"
    }
   ],
   "source": [
    "data_predict[0].shape"
   ]
  },
  {
   "cell_type": "code",
   "execution_count": 80,
   "id": "2203f690",
   "metadata": {},
   "outputs": [],
   "source": [
    "vet_predict = union_vector_predicted_dict(data_predict)"
   ]
  },
  {
   "cell_type": "code",
   "execution_count": 81,
   "id": "a69ee792",
   "metadata": {},
   "outputs": [
    {
     "data": {
      "text/plain": [
       "torch.Size([200])"
      ]
     },
     "execution_count": 81,
     "metadata": {},
     "output_type": "execute_result"
    }
   ],
   "source": [
    "vet_predict[0,400:600,0].shape"
   ]
  },
  {
   "cell_type": "markdown",
   "id": "a8ee33fe",
   "metadata": {},
   "source": [
    "## Concat Vets"
   ]
  },
  {
   "cell_type": "code",
   "execution_count": 82,
   "id": "095ee978",
   "metadata": {},
   "outputs": [
    {
     "data": {
      "text/plain": [
       "((26000, 1), torch.Size([1, 26000, 1]))"
      ]
     },
     "execution_count": 82,
     "metadata": {},
     "output_type": "execute_result"
    }
   ],
   "source": [
    "# x_true, _ = test_loader.dataset[0]\n",
    "\n",
    "# get_n_elements = len(test_loader.dataset)\n",
    "\n",
    "# for i in range(1, get_n_elements):\n",
    "    \n",
    "#     x_second, _ = test_loader.dataset[i]\n",
    "    \n",
    "#     x_true = torch.concat((x_true, x_second), dim=0)\n",
    "    \n",
    "x_true = test_dataset.data\n",
    "\n",
    "x_true.shape, vet_predict.shape"
   ]
  },
  {
   "cell_type": "markdown",
   "id": "fc9ddb92",
   "metadata": {},
   "source": [
    "### First channel"
   ]
  },
  {
   "cell_type": "code",
   "execution_count": 83,
   "id": "48fde148",
   "metadata": {},
   "outputs": [
    {
     "data": {
      "text/plain": [
       "[<matplotlib.lines.Line2D at 0x7f0359dfcb20>]"
      ]
     },
     "execution_count": 83,
     "metadata": {},
     "output_type": "execute_result"
    },
    {
     "data": {
      "image/png": "[encoded data removed]",
      "text/plain": [
       "<Figure size 1280x480 with 1 Axes>"
      ]
     },
     "metadata": {
      "needs_background": "light"
     },
     "output_type": "display_data"
    }
   ],
   "source": [
    "import matplotlib.pyplot as plt\n",
    "from matplotlib.pyplot import figure\n",
    "\n",
    "figure(figsize=(16, 6), dpi=80)\n",
    "init_limiter = 0\n",
    "limiter = init_limiter + 5400\n",
    "\n",
    "#plt.plot(data_normal_train[:limiter,0])\n",
    "\n",
    "#fig, axs = plt.subplots(1, 2, figsize=(15, 15))\n",
    "\n",
    "feature_channel = 0\n",
    "plt.xlabel('Temporal space')\n",
    "plt.ylabel('Y')\n",
    "plt.title(\"Analisys channels predicted\")\n",
    "# plt.plot(x_true[init_limiter:limiter, feature_channel], color='blue', label='sinal Real')\n",
    "# plt.plot(vet_predict[0][init_limiter:limiter, feature_channel], color='r', label='sinal previsto')\n",
    "plt.plot(x_true, color='blue', label='sinal Real')\n",
    "plt.plot(vet_predict[0,:600,0], color='r', label='sinal previsto')\n"
   ]
  },
  {
   "cell_type": "code",
   "execution_count": 84,
   "id": "b331db9e",
   "metadata": {},
   "outputs": [
    {
     "data": {
      "text/plain": [
       "[<matplotlib.lines.Line2D at 0x7f0359e159a0>]"
      ]
     },
     "execution_count": 84,
     "metadata": {},
     "output_type": "execute_result"
    },
    {
     "data": {
      "image/png": "[encoded data removed]",
      "text/plain": [
       "<Figure size 1280x480 with 1 Axes>"
      ]
     },
     "metadata": {
      "needs_background": "light"
     },
     "output_type": "display_data"
    }
   ],
   "source": [
    "import matplotlib.pyplot as plt\n",
    "from matplotlib.pyplot import figure\n",
    "\n",
    "figure(figsize=(16, 6), dpi=80)\n",
    "init_limiter = 400\n",
    "limiter = init_limiter + 5400\n",
    "\n",
    "#plt.plot(data_normal_train[:limiter,0])\n",
    "\n",
    "#fig, axs = plt.subplots(1, 2, figsize=(15, 15))\n",
    "\n",
    "feature_channel = 0\n",
    "plt.xlabel('Temporal space')\n",
    "plt.ylabel('Y')\n",
    "plt.title(\"Analisys channels predicted\")\n",
    "# plt.plot(x_true[init_limiter:limiter, feature_channel], color='blue', label='sinal Real')\n",
    "# plt.plot(vet_predict[0][init_limiter:limiter, feature_channel], color='r', label='sinal previsto')\n",
    "plt.plot(x_true, \"o\", color='blue', label='sinal Real')\n",
    "plt.plot(vet_predict[0, :600, 0], \"o\", color='r', label='sinal previsto')\n"
   ]
  },
  {
   "cell_type": "code",
   "execution_count": 85,
   "id": "2ad8394b",
   "metadata": {},
   "outputs": [],
   "source": [
    "from soft_dtw_cuda import SoftDTW\n",
    "\n",
    "sdtw = SoftDTW(use_cuda=True, gamma=0.1)\n",
    "\n",
    "def smape_loss(y_pred, target):\n",
    "    # y_pred = y_pred.squeeze(2)\n",
    "    loss = 2 * abs((y_pred - target)) / (abs(y_pred) + abs(target) + 1e-8)\n",
    "    return loss.mean()*100\n",
    "\n"
   ]
  },
  {
   "cell_type": "code",
   "execution_count": 86,
   "id": "8d8599bf",
   "metadata": {},
   "outputs": [
    {
     "data": {
      "text/plain": [
       "((26000, 1), torch.Size([1, 26000, 1]))"
      ]
     },
     "execution_count": 86,
     "metadata": {},
     "output_type": "execute_result"
    }
   ],
   "source": [
    "x_true.shape, vet_predict.shape"
   ]
  },
  {
   "cell_type": "code",
   "execution_count": 87,
   "id": "56be1b5b",
   "metadata": {},
   "outputs": [
    {
     "name": "stdout",
     "output_type": "stream",
     "text": [
      "(25600,)\n",
      "(25600,)\n",
      "Mean absolut error: 37.13192013638356\n",
      "Sum square error: 2044.0042805337607\n",
      "smape loss: 134.385297492959\n"
     ]
    }
   ],
   "source": [
    "# def soft_dtw(y_pred, target):\n",
    "#     #loss = sdtw(y_pred.unsqueeze(2), target.unsqueeze(2))\n",
    "#     loss = sdtw(y_pred[np.newaxis, :, np.newaxis],\n",
    "#                 target[np.newaxis, :, np.newaxis])\n",
    "    \n",
    "#     return loss.mean()\n",
    "init_limiter = 400\n",
    "slice_data = 26000\n",
    "slice_data_true = x_true[init_limiter:slice_data, 0]\n",
    "print(slice_data_true.shape)\n",
    "\n",
    "slice_data_pred = vet_predict[0, init_limiter:slice_data, 0].numpy()\n",
    "print(slice_data_pred.shape)\n",
    "\n",
    "abs_data = abs(slice_data_true - slice_data_pred)\n",
    "# Mean absolut error\n",
    "print(f\"Mean absolut error: {abs_data.mean()}\")\n",
    "\n",
    "sum_square = 0\n",
    "for i, elem in enumerate(slice_data_true):\n",
    "    sum_square += (slice_data_true[i] - slice_data_pred[i])**2\n",
    "\n",
    "sum_square = sum_square/(i+1)\n",
    "    \n",
    "#Mean square error\n",
    "print(f\"Sum square error: {sum_square}\")\n",
    "\n",
    "#SMAPE\n",
    "print(f\"smape loss: {smape_loss(slice_data_true, slice_data_pred)}\")\n",
    "\n",
    "#soft DTW\n",
    "\n",
    "# soft_dtw(slice_data_true, slice_data_pred)"
   ]
  },
  {
   "cell_type": "code",
   "execution_count": 88,
   "id": "9bc62ffb",
   "metadata": {},
   "outputs": [],
   "source": [
    "abs_data = abs(slice_data_true - slice_data_pred)\n",
    "#abs_data"
   ]
  },
  {
   "cell_type": "code",
   "execution_count": 77,
   "id": "56c56397",
   "metadata": {},
   "outputs": [
    {
     "name": "stdout",
     "output_type": "stream",
     "text": [
      "differents form: 98.02980297059212\n",
      "same form: 0.0\n"
     ]
    }
   ],
   "source": [
    "import numpy as np\n",
    "# In terms of interpreting the SMAPE, a value of zero indicates perfect accuracy,\n",
    "# while larger values indicate greater forecasting error. A SMAPE of 100%\n",
    "# indicates that the model's forecasts are completely off-base,\n",
    "# predicting values that are twice the actual values on average.\n",
    "\n",
    "\n",
    "print(f\"differents form: {smape_loss(np.arange(1,100), np.arange(100,1, -1))}\")\n",
    "print(f\"same form: {smape_loss(np.arange(1,100), np.arange(1, 100))}\")"
   ]
  },
  {
   "cell_type": "code",
   "execution_count": 48,
   "id": "09300e3b",
   "metadata": {},
   "outputs": [
    {
     "name": "stdout",
     "output_type": "stream",
     "text": [
      "1.0532407407407407\n",
      "1.2000000000000002\n",
      "24\n"
     ]
    }
   ],
   "source": [
    "def transform_for_days(x):\n",
    "    x = (((x*10)/60)/60)/24\n",
    "    return x\n",
    "\n",
    "def transform_for_hour(x):\n",
    "    x = (x*24)\n",
    "    return x\n",
    "\n",
    "def transform_for_min(x):\n",
    "    x = (x*60)\n",
    "    return x\n",
    "\n",
    "print(transform_for_days(9100))\n",
    "print(transform_for_hour(0.05))\n",
    "print(transform_for_hour(1))"
   ]
  },
  {
   "cell_type": "code",
   "execution_count": 21,
   "id": "a7ebbba4",
   "metadata": {},
   "outputs": [
    {
     "data": {
      "text/plain": [
       "60480.0"
      ]
     },
     "execution_count": 21,
     "metadata": {},
     "output_type": "execute_result"
    }
   ],
   "source": [
    "days(7)/10"
   ]
  },
  {
   "cell_type": "code",
   "execution_count": null,
   "id": "427aaeb9",
   "metadata": {},
   "outputs": [],
   "source": []
  }
 ],
 "metadata": {
  "kernelspec": {
   "display_name": "Python 3 (ipykernel)",
   "language": "python",
   "name": "python3"
  },
  "language_info": {
   "codemirror_mode": {
    "name": "ipython",
    "version": 3
   },
   "file_extension": ".py",
   "mimetype": "text/x-python",
   "name": "python",
   "nbconvert_exporter": "python",
   "pygments_lexer": "ipython3",
   "version": "3.9.7"
  }
 },
 "nbformat": 4,
 "nbformat_minor": 5
}
