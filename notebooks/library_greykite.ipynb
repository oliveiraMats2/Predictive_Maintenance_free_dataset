{
 "cells": [
  {
   "cell_type": "code",
   "execution_count": 15,
   "id": "635409c0",
   "metadata": {},
   "outputs": [],
   "source": [
    "from greykite.common.data_loader import DataLoader\n",
    "from greykite.framework.templates.autogen.forecast_config import ForecastConfig\n",
    "from greykite.framework.templates.autogen.forecast_config import MetadataParam\n",
    "from greykite.framework.templates.autogen.forecast_config import ModelComponentsParam\n",
    "from greykite.framework.templates.forecaster import Forecaster\n",
    "from greykite.framework.templates.model_templates import ModelTemplateEnum\n",
    "import pandas as pd\n",
    "\n",
    "\n",
    "df_1 = pd.read_csv('../Datasets/dataset_TPV_sensors/wise/x.csv')\n",
    "df_2 = pd.read_csv('../Datasets/dataset_TPV_sensors/wise/y.csv')\n",
    "df_3 = pd.read_csv('../Datasets/dataset_TPV_sensors/wise/z.csv')\n",
    "\n",
    "df = pd.DataFrame()\n",
    "df[\"OAVelocity_x\"] = df_1[\"OAVelocity\"].astype('float64')\n",
    "df[\"OAVelocity_y\"] = df_2[\"OAVelocity\"].astype('float64')\n",
    "df[\"OAVelocity_z\"] = df_3[\"OAVelocity\"].astype('float64')\n",
    "df[\"ts\"] = df_1[\"Time\"]\n",
    "\n",
    "forecast_config = ForecastConfig(\n",
    "    model_template=ModelComponentsParam({\n",
    "            \"selected_cols\": [\"OAVelocity_x\",\n",
    "                              \"OAVelocity_y\",\n",
    "                              \"OAVelocity_z\"],\n",
    "            \"response_col\": [\"OAVelocity_x\",\n",
    "                             \"OAVelocity_y\",\n",
    "                             \"OAVelocity_z\"]\n",
    "        }\n",
    "    ),\n",
    "    forecast_horizon=10,  # Horizonte de previsão\n",
    "    coverage=0.95  # Intervalo de confiança desejado\n",
    ")"
   ]
  },
  {
   "cell_type": "code",
   "execution_count": 16,
   "id": "d9e9f3d0",
   "metadata": {},
   "outputs": [
    {
     "data": {
      "text/plain": [
       "Index(['OAVelocity', 'Peakmg', 'RMSmg', 'Kurtosis', 'CrestFactor', 'Skewness',\n",
       "       'Deviation', 'Peak-to-Peak Displacement', 'Time'],\n",
       "      dtype='object')"
      ]
     },
     "execution_count": 16,
     "metadata": {},
     "output_type": "execute_result"
    }
   ],
   "source": [
    "df_1.keys()"
   ]
  },
  {
   "cell_type": "code",
   "execution_count": 17,
   "id": "f9bcff61",
   "metadata": {},
   "outputs": [
    {
     "ename": "AttributeError",
     "evalue": "'ModelComponentsParam' object has no attribute 'split'",
     "output_type": "error",
     "traceback": [
      "\u001b[0;31m---------------------------------------------------------------------------\u001b[0m",
      "\u001b[0;31mTypeError\u001b[0m                                 Traceback (most recent call last)",
      "\u001b[0;32m~/anaconda3/envs/ocr_estacio/lib/python3.9/site-packages/greykite/framework/templates/forecaster.py\u001b[0m in \u001b[0;36m__get_template_class\u001b[0;34m(self, config)\u001b[0m\n\u001b[1;32m    184\u001b[0m                 \u001b[0;31m# Tries to look up in `self.model_template_enum`.\u001b[0m\u001b[0;34m\u001b[0m\u001b[0;34m\u001b[0m\u001b[0m\n\u001b[0;32m--> 185\u001b[0;31m                 \u001b[0mtemplate_class\u001b[0m \u001b[0;34m=\u001b[0m \u001b[0mself\u001b[0m\u001b[0;34m.\u001b[0m\u001b[0mmodel_template_enum\u001b[0m\u001b[0;34m[\u001b[0m\u001b[0mconfig\u001b[0m\u001b[0;34m.\u001b[0m\u001b[0mmodel_template\u001b[0m\u001b[0;34m]\u001b[0m\u001b[0;34m.\u001b[0m\u001b[0mvalue\u001b[0m\u001b[0;34m.\u001b[0m\u001b[0mtemplate_class\u001b[0m\u001b[0;34m\u001b[0m\u001b[0;34m\u001b[0m\u001b[0m\n\u001b[0m\u001b[1;32m    186\u001b[0m             \u001b[0;32mexcept\u001b[0m \u001b[0;34m(\u001b[0m\u001b[0mKeyError\u001b[0m\u001b[0;34m,\u001b[0m \u001b[0mTypeError\u001b[0m\u001b[0;34m)\u001b[0m\u001b[0;34m:\u001b[0m\u001b[0;34m\u001b[0m\u001b[0;34m\u001b[0m\u001b[0m\n",
      "\u001b[0;32m~/anaconda3/envs/ocr_estacio/lib/python3.9/enum.py\u001b[0m in \u001b[0;36m__getitem__\u001b[0;34m(cls, name)\u001b[0m\n\u001b[1;32m    431\u001b[0m     \u001b[0;32mdef\u001b[0m \u001b[0m__getitem__\u001b[0m\u001b[0;34m(\u001b[0m\u001b[0mcls\u001b[0m\u001b[0;34m,\u001b[0m \u001b[0mname\u001b[0m\u001b[0;34m)\u001b[0m\u001b[0;34m:\u001b[0m\u001b[0;34m\u001b[0m\u001b[0;34m\u001b[0m\u001b[0m\n\u001b[0;32m--> 432\u001b[0;31m         \u001b[0;32mreturn\u001b[0m \u001b[0mcls\u001b[0m\u001b[0;34m.\u001b[0m\u001b[0m_member_map_\u001b[0m\u001b[0;34m[\u001b[0m\u001b[0mname\u001b[0m\u001b[0;34m]\u001b[0m\u001b[0;34m\u001b[0m\u001b[0;34m\u001b[0m\u001b[0m\n\u001b[0m\u001b[1;32m    433\u001b[0m \u001b[0;34m\u001b[0m\u001b[0m\n",
      "\u001b[0;31mTypeError\u001b[0m: unhashable type: 'ModelComponentsParam'",
      "\nDuring handling of the above exception, another exception occurred:\n",
      "\u001b[0;31mAttributeError\u001b[0m                            Traceback (most recent call last)",
      "\u001b[0;32m/tmp/ipykernel_24088/281184272.py\u001b[0m in \u001b[0;36m<module>\u001b[0;34m\u001b[0m\n\u001b[1;32m      1\u001b[0m \u001b[0;31m# Creates forecasts\u001b[0m\u001b[0;34m\u001b[0m\u001b[0;34m\u001b[0m\u001b[0m\n\u001b[1;32m      2\u001b[0m \u001b[0mforecaster\u001b[0m \u001b[0;34m=\u001b[0m \u001b[0mForecaster\u001b[0m\u001b[0;34m(\u001b[0m\u001b[0;34m)\u001b[0m\u001b[0;34m\u001b[0m\u001b[0;34m\u001b[0m\u001b[0m\n\u001b[0;32m----> 3\u001b[0;31m \u001b[0mresult\u001b[0m \u001b[0;34m=\u001b[0m \u001b[0mforecaster\u001b[0m\u001b[0;34m.\u001b[0m\u001b[0mrun_forecast_config\u001b[0m\u001b[0;34m(\u001b[0m\u001b[0mdf\u001b[0m\u001b[0;34m,\u001b[0m \u001b[0mforecast_config\u001b[0m\u001b[0;34m)\u001b[0m\u001b[0;34m\u001b[0m\u001b[0;34m\u001b[0m\u001b[0m\n\u001b[0m",
      "\u001b[0;32m~/anaconda3/envs/ocr_estacio/lib/python3.9/site-packages/greykite/framework/templates/forecaster.py\u001b[0m in \u001b[0;36mrun_forecast_config\u001b[0;34m(self, df, config)\u001b[0m\n\u001b[1;32m    373\u001b[0m             \u001b[0maccording\u001b[0m \u001b[0mto\u001b[0m \u001b[0mthe\u001b[0m\u001b[0;31m \u001b[0m\u001b[0;31m`\u001b[0m\u001b[0;31m`\u001b[0m\u001b[0mdf\u001b[0m\u001b[0;31m`\u001b[0m\u001b[0;31m`\u001b[0m \u001b[0;32mand\u001b[0m\u001b[0;31m \u001b[0m\u001b[0;31m`\u001b[0m\u001b[0;31m`\u001b[0m\u001b[0mconfig\u001b[0m\u001b[0;31m`\u001b[0m\u001b[0;31m`\u001b[0m \u001b[0mconfiguration\u001b[0m \u001b[0mparameters\u001b[0m\u001b[0;34m.\u001b[0m\u001b[0;34m\u001b[0m\u001b[0;34m\u001b[0m\u001b[0m\n\u001b[1;32m    374\u001b[0m         \"\"\"\n\u001b[0;32m--> 375\u001b[0;31m         pipeline_parameters = self.apply_forecast_config(\n\u001b[0m\u001b[1;32m    376\u001b[0m             \u001b[0mdf\u001b[0m\u001b[0;34m=\u001b[0m\u001b[0mdf\u001b[0m\u001b[0;34m,\u001b[0m\u001b[0;34m\u001b[0m\u001b[0;34m\u001b[0m\u001b[0m\n\u001b[1;32m    377\u001b[0m             config=config)\n",
      "\u001b[0;32m~/anaconda3/envs/ocr_estacio/lib/python3.9/site-packages/greykite/framework/templates/forecaster.py\u001b[0m in \u001b[0;36mapply_forecast_config\u001b[0;34m(self, df, config)\u001b[0m\n\u001b[1;32m    341\u001b[0m         \u001b[0mself\u001b[0m\u001b[0;34m.\u001b[0m\u001b[0mconfig\u001b[0m \u001b[0;34m=\u001b[0m \u001b[0mself\u001b[0m\u001b[0;34m.\u001b[0m\u001b[0m__get_config_with_default_model_template_and_components\u001b[0m\u001b[0;34m(\u001b[0m\u001b[0mconfig\u001b[0m\u001b[0;34m)\u001b[0m\u001b[0;34m\u001b[0m\u001b[0;34m\u001b[0m\u001b[0m\n\u001b[1;32m    342\u001b[0m         \u001b[0mself\u001b[0m\u001b[0;34m.\u001b[0m\u001b[0mconfig\u001b[0m\u001b[0;34m.\u001b[0m\u001b[0mmodel_template\u001b[0m \u001b[0;34m=\u001b[0m \u001b[0mself\u001b[0m\u001b[0;34m.\u001b[0m\u001b[0m__get_model_template\u001b[0m\u001b[0;34m(\u001b[0m\u001b[0mdf\u001b[0m\u001b[0;34m=\u001b[0m\u001b[0mdf\u001b[0m\u001b[0;34m,\u001b[0m \u001b[0mconfig\u001b[0m\u001b[0;34m=\u001b[0m\u001b[0mself\u001b[0m\u001b[0;34m.\u001b[0m\u001b[0mconfig\u001b[0m\u001b[0;34m)\u001b[0m\u001b[0;34m\u001b[0m\u001b[0;34m\u001b[0m\u001b[0m\n\u001b[0;32m--> 343\u001b[0;31m         \u001b[0mself\u001b[0m\u001b[0;34m.\u001b[0m\u001b[0mtemplate_class\u001b[0m \u001b[0;34m=\u001b[0m \u001b[0mself\u001b[0m\u001b[0;34m.\u001b[0m\u001b[0m__get_template_class\u001b[0m\u001b[0;34m(\u001b[0m\u001b[0mself\u001b[0m\u001b[0;34m.\u001b[0m\u001b[0mconfig\u001b[0m\u001b[0;34m)\u001b[0m\u001b[0;34m\u001b[0m\u001b[0;34m\u001b[0m\u001b[0m\n\u001b[0m\u001b[1;32m    344\u001b[0m         \u001b[0mself\u001b[0m\u001b[0;34m.\u001b[0m\u001b[0mtemplate\u001b[0m \u001b[0;34m=\u001b[0m \u001b[0mself\u001b[0m\u001b[0;34m.\u001b[0m\u001b[0mtemplate_class\u001b[0m\u001b[0;34m(\u001b[0m\u001b[0;34m)\u001b[0m\u001b[0;34m\u001b[0m\u001b[0;34m\u001b[0m\u001b[0m\n\u001b[1;32m    345\u001b[0m         \u001b[0mself\u001b[0m\u001b[0;34m.\u001b[0m\u001b[0mpipeline_params\u001b[0m \u001b[0;34m=\u001b[0m \u001b[0mself\u001b[0m\u001b[0;34m.\u001b[0m\u001b[0mtemplate\u001b[0m\u001b[0;34m.\u001b[0m\u001b[0mapply_template_for_pipeline_params\u001b[0m\u001b[0;34m(\u001b[0m\u001b[0mdf\u001b[0m\u001b[0;34m=\u001b[0m\u001b[0mdf\u001b[0m\u001b[0;34m,\u001b[0m \u001b[0mconfig\u001b[0m\u001b[0;34m=\u001b[0m\u001b[0mself\u001b[0m\u001b[0;34m.\u001b[0m\u001b[0mconfig\u001b[0m\u001b[0;34m)\u001b[0m\u001b[0;34m\u001b[0m\u001b[0;34m\u001b[0m\u001b[0m\n",
      "\u001b[0;32m~/anaconda3/envs/ocr_estacio/lib/python3.9/site-packages/greykite/framework/templates/forecaster.py\u001b[0m in \u001b[0;36m__get_template_class\u001b[0;34m(self, config)\u001b[0m\n\u001b[1;32m    198\u001b[0m                         log_message(f\"Model template {config.model_template} is not found in the template enum. \"\n\u001b[1;32m    199\u001b[0m                                     f\"Checking if model template is suitable for `SimpleSilverkiteTemplate`.\", LoggingLevelEnum.DEBUG)\n\u001b[0;32m--> 200\u001b[0;31m                         \u001b[0mSimpleSilverkiteTemplate\u001b[0m\u001b[0;34m(\u001b[0m\u001b[0;34m)\u001b[0m\u001b[0;34m.\u001b[0m\u001b[0mcheck_template_type\u001b[0m\u001b[0;34m(\u001b[0m\u001b[0mconfig\u001b[0m\u001b[0;34m.\u001b[0m\u001b[0mmodel_template\u001b[0m\u001b[0;34m)\u001b[0m\u001b[0;34m\u001b[0m\u001b[0;34m\u001b[0m\u001b[0m\n\u001b[0m\u001b[1;32m    201\u001b[0m                         possible_template_classes = unique_elements_in_list([mte.value.template_class\n\u001b[1;32m    202\u001b[0m                                                                              for mte in subclass_simple_silverkite])\n",
      "\u001b[0;32m~/anaconda3/envs/ocr_estacio/lib/python3.9/site-packages/greykite/framework/templates/simple_silverkite_template.py\u001b[0m in \u001b[0;36mcheck_template_type\u001b[0;34m(self, template)\u001b[0m\n\u001b[1;32m   1016\u001b[0m                          \"SILVERKITE_EMPTY\"]\n\u001b[1;32m   1017\u001b[0m                 \u001b[0;32mor\u001b[0m \u001b[0misinstance\u001b[0m\u001b[0;34m(\u001b[0m\u001b[0mtemplate\u001b[0m\u001b[0;34m,\u001b[0m \u001b[0mself\u001b[0m\u001b[0;34m.\u001b[0m\u001b[0mconstants\u001b[0m\u001b[0;34m.\u001b[0m\u001b[0mSimpleSilverkiteTemplateOptions\u001b[0m\u001b[0;34m)\u001b[0m\u001b[0;34m\u001b[0m\u001b[0;34m\u001b[0m\u001b[0m\n\u001b[0;32m-> 1018\u001b[0;31m                 or template.split(\"_\")[0] in self.constants.VALID_FREQ):\n\u001b[0m\u001b[1;32m   1019\u001b[0m             \u001b[0;32mreturn\u001b[0m \u001b[0;34m\"single\"\u001b[0m\u001b[0;34m\u001b[0m\u001b[0;34m\u001b[0m\u001b[0m\n\u001b[1;32m   1020\u001b[0m         \u001b[0;32mif\u001b[0m \u001b[0mtemplate\u001b[0m \u001b[0;32min\u001b[0m \u001b[0mself\u001b[0m\u001b[0;34m.\u001b[0m\u001b[0mconstants\u001b[0m\u001b[0;34m.\u001b[0m\u001b[0mMULTI_TEMPLATES\u001b[0m\u001b[0;34m:\u001b[0m\u001b[0;34m\u001b[0m\u001b[0;34m\u001b[0m\u001b[0m\n",
      "\u001b[0;31mAttributeError\u001b[0m: 'ModelComponentsParam' object has no attribute 'split'"
     ]
    }
   ],
   "source": [
    "# Creates forecasts\n",
    "forecaster = Forecaster()\n",
    "result = forecaster.run_forecast_config(df, forecast_config)"
   ]
  },
  {
   "cell_type": "code",
   "execution_count": 4,
   "id": "fb15d173",
   "metadata": {},
   "outputs": [
    {
     "data": {
      "text/plain": [
       "ForecastConfig(computation_param=None, coverage=0.95, evaluation_metric_param=None, evaluation_period_param=None, forecast_horizon=10, forecast_one_by_one=None, metadata_param=None, model_components_param=None, model_template=ModelComponentsParam(autoregression={'selected_cols': ['OAVelocity_x', 'OAVelocity_y', 'OAVelocity_z'], 'response_col': ['OAVelocity_x', 'OAVelocity_y', 'OAVelocity_z']}, changepoints=None, custom=None, events=None, growth=None, hyperparameter_override=None, regressors=None, lagged_regressors=None, seasonality=None, uncertainty=None))"
      ]
     },
     "execution_count": 4,
     "metadata": {},
     "output_type": "execute_result"
    }
   ],
   "source": [
    "forecast_config"
   ]
  },
  {
   "cell_type": "code",
   "execution_count": null,
   "id": "e3a14146",
   "metadata": {},
   "outputs": [],
   "source": [
    "# Accesses results\n",
    "result.forecast     # Forecast with metrics, diagnostics\n",
    "result.backtest     # Backtest with metrics, diagnostics\n",
    "result.grid_search  # Time series CV result\n",
    "result.model        # Trained model\n",
    "result.timeseries   # Processed time series with plotting functions"
   ]
  },
  {
   "cell_type": "code",
   "execution_count": null,
   "id": "59df2ca3",
   "metadata": {},
   "outputs": [],
   "source": []
  }
 ],
 "metadata": {
  "kernelspec": {
   "display_name": "Python 3 (ipykernel)",
   "language": "python",
   "name": "python3"
  },
  "language_info": {
   "codemirror_mode": {
    "name": "ipython",
    "version": 3
   },
   "file_extension": ".py",
   "mimetype": "text/x-python",
   "name": "python",
   "nbconvert_exporter": "python",
   "pygments_lexer": "ipython3",
   "version": "3.9.7"
  }
 },
 "nbformat": 4,
 "nbformat_minor": 5
}
