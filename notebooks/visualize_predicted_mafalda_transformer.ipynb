{
 "cells": [
  {
   "cell_type": "code",
   "execution_count": 3,
   "id": "d5f2faa4",
   "metadata": {},
   "outputs": [
    {
     "name": "stderr",
     "output_type": "stream",
     "text": [
      "100%|█████████████████████████████████████████████████████████████████████████████████████████████████████████████████████████████████████████████████████████| 499597/499597 [00:00<00:00, 1279018.28it/s]\n"
     ]
    },
    {
     "data": {
      "text/plain": [
       "<Figure size 640x480 with 0 Axes>"
      ]
     },
     "metadata": {},
     "output_type": "display_data"
    }
   ],
   "source": [
    "import sys\n",
    "sys.path.insert(0, \"/mnt/arquivos_linux/wile_C/Predictive_Maintenance_free_dataset/\")\n",
    "import torch\n",
    "from matplotlib.pyplot import figure\n",
    "from datasets import DatasetUnsupervisedMafaulda\n",
    "\n",
    "figure(figsize=(8, 6), dpi=80)\n",
    "\n",
    "limiter = 2000\n",
    "\n",
    "ABS_PATH = '/mnt/arquivos_linux/wile_C/Predictive_Maintenance_free_dataset'\n",
    "\n",
    "test_dataset = DatasetUnsupervisedMafaulda(data_normal=f'{ABS_PATH}/dataset_free/X_train_normal.h5',\n",
    "                                           data_failure=f'{ABS_PATH}/dataset_free/X_train_failure.h5',\n",
    "                                           context=400)\n",
    "\n",
    "test_loader = torch.utils.data.DataLoader(\n",
    "                test_dataset, batch_size=2, shuffle=False\n",
    "                )"
   ]
  },
  {
   "cell_type": "code",
   "execution_count": null,
   "id": "cafccb51",
   "metadata": {},
   "outputs": [],
   "source": []
  }
 ],
 "metadata": {
  "kernelspec": {
   "display_name": "Python 3 (ipykernel)",
   "language": "python",
   "name": "python3"
  },
  "language_info": {
   "codemirror_mode": {
    "name": "ipython",
    "version": 3
   },
   "file_extension": ".py",
   "mimetype": "text/x-python",
   "name": "python",
   "nbconvert_exporter": "python",
   "pygments_lexer": "ipython3",
   "version": "3.9.7"
  }
 },
 "nbformat": 4,
 "nbformat_minor": 5
}
