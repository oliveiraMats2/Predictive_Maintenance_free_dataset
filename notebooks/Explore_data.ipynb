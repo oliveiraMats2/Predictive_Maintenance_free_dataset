{
 "cells": [
  {
   "cell_type": "code",
   "execution_count": 7,
   "id": "10c40fb2",
   "metadata": {},
   "outputs": [
    {
     "data": {
      "text/plain": [
       "Index(['UDI', 'Product ID', 'Type', 'Air temperature [K]',\n",
       "       'Process temperature [K]', 'Rotational speed [rpm]', 'Torque [Nm]',\n",
       "       'Tool wear [min]', 'Machine failure', 'TWF', 'HDF', 'PWF', 'OSF',\n",
       "       'RNF'],\n",
       "      dtype='object')"
      ]
     },
     "execution_count": 7,
     "metadata": {},
     "output_type": "execute_result"
    }
   ],
   "source": [
    "import pandas as pd\n",
    "import numpy as np\n",
    "\n",
    "dataset = pd.read_csv(\"../dataset_free/uci_base_machine_learning.csv\")\n",
    "\n",
    "dataset.keys()"
   ]
  },
  {
   "cell_type": "code",
   "execution_count": 8,
   "id": "a82f53b8",
   "metadata": {},
   "outputs": [],
   "source": [
    "x_dataset = dataset.drop(columns=['UDI', 'Product ID', 'Type','Tool wear [min]',\n",
    "                                  'Machine failure', 'TWF', 'HDF', 'PWF', 'OSF',\n",
    "                                  'RNF'])\n",
    "\n",
    "y_dataset = dataset.drop(columns=['UDI', 'Product ID', 'Type', 'Air temperature [K]',\n",
    "                               'Process temperature [K]', 'Rotational speed [rpm]', 'Torque [Nm]',\n",
    "                               'Tool wear [min]', 'TWF', 'HDF', 'PWF', 'OSF','RNF'])"
   ]
  },
  {
   "cell_type": "code",
   "execution_count": 9,
   "id": "b0f4566e",
   "metadata": {},
   "outputs": [],
   "source": [
    "channels = list(x_dataset.keys())\n",
    "\n",
    "sequence = 30"
   ]
  },
  {
   "cell_type": "code",
   "execution_count": 10,
   "id": "2a601ad1",
   "metadata": {},
   "outputs": [],
   "source": [
    "y_data_array = np.array(y_dataset['Machine failure'].tolist())"
   ]
  },
  {
   "cell_type": "code",
   "execution_count": 11,
   "id": "aa00c655",
   "metadata": {},
   "outputs": [],
   "source": [
    "import numpy as np\n",
    "\n",
    "dict_features_x = {}\n",
    "#dict_keys(['Air temperature [K]', 'Process temperature [K]', 'Rotational speed [rpm]', 'Torque [Nm]'])\n",
    "matrix_channels = np.array([np.array((x_dataset[feature].tolist())) for feature in x_dataset.keys()])"
   ]
  },
  {
   "cell_type": "code",
   "execution_count": 12,
   "id": "d757ab92",
   "metadata": {},
   "outputs": [
    {
     "data": {
      "text/plain": [
       "(4, 10000)"
      ]
     },
     "execution_count": 12,
     "metadata": {},
     "output_type": "execute_result"
    }
   ],
   "source": [
    "context = 5\n",
    "# 4 -> features\n",
    "\n",
    "data_points = matrix_channels.shape[1]\n",
    "\n",
    "\n",
    "# size_reshape_context = data_points//context\n",
    "\n",
    "# matrix_channels = np.reshape(matrix_channels, (-1, context, size_reshape_context))\n",
    "\n",
    "matrix_channels.shape"
   ]
  },
  {
   "cell_type": "code",
   "execution_count": 13,
   "id": "3078eff3",
   "metadata": {},
   "outputs": [],
   "source": [
    "list_context = []\n",
    "\n",
    "for i in range(data_points - context):\n",
    "    list_context.append(matrix_channels[:, i:i+context])"
   ]
  },
  {
   "cell_type": "code",
   "execution_count": 14,
   "id": "1d2feb2d",
   "metadata": {},
   "outputs": [
    {
     "data": {
      "text/plain": [
       "array([[[ 298.1,  298.2,  298.1,  298.2,  298.2],\n",
       "        [ 308.6,  308.7,  308.5,  308.6,  308.7],\n",
       "        [1551. , 1408. , 1498. , 1433. , 1408. ],\n",
       "        [  42.8,   46.3,   49.4,   39.5,   40. ]]])"
      ]
     },
     "execution_count": 14,
     "metadata": {},
     "output_type": "execute_result"
    }
   ],
   "source": [
    "np.array(list_context)[:1]"
   ]
  },
  {
   "cell_type": "code",
   "execution_count": 15,
   "id": "b0f72ce7",
   "metadata": {},
   "outputs": [
    {
     "data": {
      "text/html": [
       "<div>\n",
       "<style scoped>\n",
       "    .dataframe tbody tr th:only-of-type {\n",
       "        vertical-align: middle;\n",
       "    }\n",
       "\n",
       "    .dataframe tbody tr th {\n",
       "        vertical-align: top;\n",
       "    }\n",
       "\n",
       "    .dataframe thead th {\n",
       "        text-align: right;\n",
       "    }\n",
       "</style>\n",
       "<table border=\"1\" class=\"dataframe\">\n",
       "  <thead>\n",
       "    <tr style=\"text-align: right;\">\n",
       "      <th></th>\n",
       "      <th>Air temperature [K]</th>\n",
       "      <th>Process temperature [K]</th>\n",
       "      <th>Rotational speed [rpm]</th>\n",
       "      <th>Torque [Nm]</th>\n",
       "    </tr>\n",
       "  </thead>\n",
       "  <tbody>\n",
       "    <tr>\n",
       "      <th>0</th>\n",
       "      <td>298.1</td>\n",
       "      <td>308.6</td>\n",
       "      <td>1551</td>\n",
       "      <td>42.8</td>\n",
       "    </tr>\n",
       "    <tr>\n",
       "      <th>1</th>\n",
       "      <td>298.2</td>\n",
       "      <td>308.7</td>\n",
       "      <td>1408</td>\n",
       "      <td>46.3</td>\n",
       "    </tr>\n",
       "    <tr>\n",
       "      <th>2</th>\n",
       "      <td>298.1</td>\n",
       "      <td>308.5</td>\n",
       "      <td>1498</td>\n",
       "      <td>49.4</td>\n",
       "    </tr>\n",
       "    <tr>\n",
       "      <th>3</th>\n",
       "      <td>298.2</td>\n",
       "      <td>308.6</td>\n",
       "      <td>1433</td>\n",
       "      <td>39.5</td>\n",
       "    </tr>\n",
       "    <tr>\n",
       "      <th>4</th>\n",
       "      <td>298.2</td>\n",
       "      <td>308.7</td>\n",
       "      <td>1408</td>\n",
       "      <td>40.0</td>\n",
       "    </tr>\n",
       "    <tr>\n",
       "      <th>5</th>\n",
       "      <td>298.1</td>\n",
       "      <td>308.6</td>\n",
       "      <td>1425</td>\n",
       "      <td>41.9</td>\n",
       "    </tr>\n",
       "    <tr>\n",
       "      <th>6</th>\n",
       "      <td>298.1</td>\n",
       "      <td>308.6</td>\n",
       "      <td>1558</td>\n",
       "      <td>42.4</td>\n",
       "    </tr>\n",
       "    <tr>\n",
       "      <th>7</th>\n",
       "      <td>298.1</td>\n",
       "      <td>308.6</td>\n",
       "      <td>1527</td>\n",
       "      <td>40.2</td>\n",
       "    </tr>\n",
       "    <tr>\n",
       "      <th>8</th>\n",
       "      <td>298.3</td>\n",
       "      <td>308.7</td>\n",
       "      <td>1667</td>\n",
       "      <td>28.6</td>\n",
       "    </tr>\n",
       "    <tr>\n",
       "      <th>9</th>\n",
       "      <td>298.5</td>\n",
       "      <td>309.0</td>\n",
       "      <td>1741</td>\n",
       "      <td>28.0</td>\n",
       "    </tr>\n",
       "  </tbody>\n",
       "</table>\n",
       "</div>"
      ],
      "text/plain": [
       "   Air temperature [K]  Process temperature [K]  Rotational speed [rpm]  \\\n",
       "0                298.1                    308.6                    1551   \n",
       "1                298.2                    308.7                    1408   \n",
       "2                298.1                    308.5                    1498   \n",
       "3                298.2                    308.6                    1433   \n",
       "4                298.2                    308.7                    1408   \n",
       "5                298.1                    308.6                    1425   \n",
       "6                298.1                    308.6                    1558   \n",
       "7                298.1                    308.6                    1527   \n",
       "8                298.3                    308.7                    1667   \n",
       "9                298.5                    309.0                    1741   \n",
       "\n",
       "   Torque [Nm]  \n",
       "0         42.8  \n",
       "1         46.3  \n",
       "2         49.4  \n",
       "3         39.5  \n",
       "4         40.0  \n",
       "5         41.9  \n",
       "6         42.4  \n",
       "7         40.2  \n",
       "8         28.6  \n",
       "9         28.0  "
      ]
     },
     "execution_count": 15,
     "metadata": {},
     "output_type": "execute_result"
    }
   ],
   "source": [
    "x_dataset.head(10)"
   ]
  },
  {
   "cell_type": "code",
   "execution_count": 31,
   "id": "101aecaa",
   "metadata": {},
   "outputs": [],
   "source": [
    "x_dataset = matrix_channels\n",
    "y_dataset = y_data_array"
   ]
  },
  {
   "cell_type": "code",
   "execution_count": 35,
   "id": "a5c96ff4",
   "metadata": {},
   "outputs": [],
   "source": [
    "samples = x_dataset.shape[1]\n",
    "\n",
    "data_context = []\n",
    "context_labels = []\n",
    "\n",
    "context = 10\n",
    "\n",
    "for i in range(samples - context):\n",
    "    data_context.append(x_dataset[:, i:i + context])\n",
    "\n",
    "for i in range(samples - context):\n",
    "    context_labels.append(y_dataset[i:i + context])"
   ]
  },
  {
   "cell_type": "code",
   "execution_count": 36,
   "id": "ff43aaeb",
   "metadata": {},
   "outputs": [],
   "source": []
  },
  {
   "cell_type": "code",
   "execution_count": 43,
   "id": "4bc33fef",
   "metadata": {},
   "outputs": [],
   "source": [
    "import numpy as np\n",
    "from sklearn.model_selection import train_test_split\n",
    "\n",
    "def create_context(X:np.ndarray, Y:np.ndarray, context:int) -> list:\n",
    "    samples = X.shape[1] # modify\n",
    "    \n",
    "    for i in range(samples - context):\n",
    "        data_context.append(x_dataset[:, i:i + context])\n",
    "        context_labels.append(y_dataset[i:i + context])\n",
    "        \n",
    "    return data_context, context_labels\n",
    "\n",
    "data_context, context_labels = create_context(x_dataset, y_dataset, context=10)\n",
    "\n",
    "X_train, X_test, y_train, y_test = train_test_split(data_context, context_labels, test_size=0.33, random_state=42)"
   ]
  },
  {
   "cell_type": "code",
   "execution_count": null,
   "id": "82a76aae",
   "metadata": {},
   "outputs": [],
   "source": []
  }
 ],
 "metadata": {
  "kernelspec": {
   "display_name": "Python 3 (ipykernel)",
   "language": "python",
   "name": "python3"
  },
  "language_info": {
   "codemirror_mode": {
    "name": "ipython",
    "version": 3
   },
   "file_extension": ".py",
   "mimetype": "text/x-python",
   "name": "python",
   "nbconvert_exporter": "python",
   "pygments_lexer": "ipython3",
   "version": "3.9.7"
  }
 },
 "nbformat": 4,
 "nbformat_minor": 5
}
