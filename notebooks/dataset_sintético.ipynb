{
 "cells": [
  {
   "cell_type": "code",
   "execution_count": 1,
   "metadata": {
    "id": "T6_oVWi22vOI"
   },
   "outputs": [
    {
     "name": "stderr",
     "output_type": "stream",
     "text": [
      "<frozen importlib._bootstrap>:228: RuntimeWarning: scipy._lib.messagestream.MessageStream size changed, may indicate binary incompatibility. Expected 56 from C header, got 64 from PyObject\n"
     ]
    }
   ],
   "source": [
    "import numpy as np\n",
    "import random\n",
    "import matplotlib.pyplot as plt\n",
    "from sklearn import preprocessing"
   ]
  },
  {
   "cell_type": "markdown",
   "metadata": {
    "id": "U-b2_SD2b18k"
   },
   "source": [
    "Bomba"
   ]
  },
  {
   "cell_type": "code",
   "execution_count": 2,
   "metadata": {
    "colab": {
     "base_uri": "https://localhost:8080/"
    },
    "id": "TDuadHNMb-rl",
    "outputId": "655de8fb-3077-40d8-fd6a-a5dad8f3bbdd"
   },
   "outputs": [
    {
     "name": "stdout",
     "output_type": "stream",
     "text": [
      "(10000, 10, 65, 4)\n"
     ]
    }
   ],
   "source": [
    "frequency = 65 #Hz\n",
    "time = 10 #sec\n",
    "slot = 10000\n",
    "\n",
    "\n",
    "data = np.ones((slot, time, frequency, 4))\n",
    "for i in range(len(data)):\n",
    "  for j in range(len(data[i])):\n",
    "    data[i][j] = np.transpose(np.array([np.random.normal(1026.84, 18, frequency), \n",
    "                                        np.random.normal(26.52, 12, frequency),\n",
    "                                        np.random.normal(84.58, 5, frequency),\n",
    "                                        np.random.normal(100, 5, frequency)]))\n",
    "\n",
    "for i in range(len(data)):\n",
    "  for j in range(len(data[i])):\n",
    "    data[i][j] = preprocessing.normalize(data[i][j])\n",
    "\n",
    "print(data.shape)"
   ]
  },
  {
   "cell_type": "code",
   "execution_count": 3,
   "metadata": {},
   "outputs": [
    {
     "name": "stdout",
     "output_type": "stream",
     "text": [
      "(8500, 10, 65, 4)\n",
      "(1500, 10, 65, 4)\n"
     ]
    }
   ],
   "source": [
    "from sklearn.model_selection import train_test_split\n",
    "\n",
    "X_train, X_test = train_test_split(data, test_size=0.15, random_state=1)\n",
    "\n",
    "print(X_train.shape)\n",
    "print(X_test.shape)"
   ]
  },
  {
   "cell_type": "code",
   "execution_count": 4,
   "metadata": {},
   "outputs": [
    {
     "data": {
      "text/plain": [
       "<HDF5 dataset \"data_test\": shape (1500, 10, 65, 4), type \"<f8\">"
      ]
     },
     "execution_count": 4,
     "metadata": {},
     "output_type": "execute_result"
    }
   ],
   "source": [
    "import h5py\n",
    "\n",
    "h5f = h5py.File('../Datasets/sintetic_data/train_compressor_data.h5', 'w')\n",
    "h5f.create_dataset('data_train', data = X_train)\n",
    "\n",
    "h5f = h5py.File('../Datasets/sintetic_data/test_compressor_data.h5', 'w')\n",
    "h5f.create_dataset('data_test', data = X_test)"
   ]
  },
  {
   "cell_type": "code",
   "execution_count": null,
   "metadata": {},
   "outputs": [],
   "source": []
  }
 ],
 "metadata": {
  "accelerator": "GPU",
  "colab": {
   "provenance": []
  },
  "gpuClass": "standard",
  "kernelspec": {
   "display_name": "Python 3 (ipykernel)",
   "language": "python",
   "name": "python3"
  },
  "language_info": {
   "codemirror_mode": {
    "name": "ipython",
    "version": 3
   },
   "file_extension": ".py",
   "mimetype": "text/x-python",
   "name": "python",
   "nbconvert_exporter": "python",
   "pygments_lexer": "ipython3",
   "version": "3.9.7"
  }
 },
 "nbformat": 4,
 "nbformat_minor": 1
}
