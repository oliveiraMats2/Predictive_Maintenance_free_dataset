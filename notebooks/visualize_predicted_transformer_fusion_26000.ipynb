{
 "cells": [
  {
   "cell_type": "code",
   "execution_count": 3,
   "id": "d5f2faa4",
   "metadata": {},
   "outputs": [
    {
     "data": {
      "text/plain": [
       "<Figure size 640x480 with 0 Axes>"
      ]
     },
     "execution_count": 3,
     "metadata": {},
     "output_type": "execute_result"
    },
    {
     "data": {
      "text/plain": [
       "<Figure size 640x480 with 0 Axes>"
      ]
     },
     "metadata": {},
     "output_type": "display_data"
    }
   ],
   "source": [
    "import sys\n",
    "sys.path.insert(0, \"/mnt/arquivos_linux/wile_C/Predictive_Maintenance_free_dataset/\")\n",
    "import torch\n",
    "from matplotlib.pyplot import figure\n",
    "from datasets import DatasetSinteticUnsupervisedLSTM\n",
    "\n",
    "figure(figsize=(8, 6), dpi=80)"
   ]
  },
  {
   "cell_type": "code",
   "execution_count": 7,
   "id": "cafccb51",
   "metadata": {},
   "outputs": [],
   "source": [
    "absolut_path = \"../Datasets/sintetic_dataset/fusion_transformer_result/26000\"\n",
    "\n",
    "data_ground_truth = torch.load(f\"{absolut_path}/actuals.pt\")\n",
    "data_predicted = torch.load(f\"{absolut_path}/predicted.pt\")"
   ]
  },
  {
   "cell_type": "code",
   "execution_count": 8,
   "id": "d6b134b9",
   "metadata": {},
   "outputs": [
    {
     "data": {
      "text/plain": [
       "(torch.Size([9184, 100, 7]), torch.Size([9184, 100]))"
      ]
     },
     "execution_count": 8,
     "metadata": {},
     "output_type": "execute_result"
    }
   ],
   "source": [
    "data_predicted.shape, data_ground_truth.shape"
   ]
  },
  {
   "cell_type": "markdown",
   "id": "fc9ddb92",
   "metadata": {},
   "source": [
    "### First channel"
   ]
  },
  {
   "cell_type": "code",
   "execution_count": 11,
   "id": "48fde148",
   "metadata": {},
   "outputs": [
    {
     "data": {
      "text/plain": [
       "[<matplotlib.lines.Line2D at 0x7fdb0078b280>]"
      ]
     },
     "execution_count": 11,
     "metadata": {},
     "output_type": "execute_result"
    },
    {
     "data": {
      "image/png": "[encoded data removed]",
      "text/plain": [
       "<Figure size 1280x480 with 1 Axes>"
      ]
     },
     "metadata": {
      "needs_background": "light"
     },
     "output_type": "display_data"
    }
   ],
   "source": [
    "import matplotlib.pyplot as plt\n",
    "from matplotlib.pyplot import figure\n",
    "\n",
    "figure(figsize=(16, 6), dpi=80)\n",
    "init_limiter = 0\n",
    "\n",
    "middle = 3\n",
    "slice_data = 5\n",
    "\n",
    "feature_channel = 0\n",
    "plt.xlabel('Temporal space')\n",
    "plt.ylabel('Y')\n",
    "plt.title(\"Analisys channels predicted\")\n",
    "#plt.plot(data_ground_truth[slice_data], color='blue', label='sinal Real')\n",
    "#plt.plot(data_predicted[slice_data, :, 3], color='r', label='sinal previsto')\n",
    "\n",
    "plt.plot(data_ground_truth[slice_data], \"o\", color='blue', label='sinal Real')\n",
    "plt.plot(data_predicted[slice_data, :, 3], \"o\", color='r', label='sinal previsto')"
   ]
  },
  {
   "cell_type": "code",
   "execution_count": 12,
   "id": "34730ea0",
   "metadata": {},
   "outputs": [
    {
     "data": {
      "text/plain": [
       "tensor([16.1790, 19.5090, 21.6949, 23.3696, 24.7293, 25.8640, 26.7751, 27.4154,\n",
       "        27.7687, 27.8714, 27.7816, 27.5532, 27.2266, 26.8293, 26.3817, 25.9029,\n",
       "        25.4135, 24.9353, 24.4880, 24.0855, 23.7324, 23.4232, 23.1442, 22.8765,\n",
       "        22.6032, 22.3172, 22.0248, 21.7407, 21.4788, 21.2469, 21.0468, 20.8770,\n",
       "        20.7339, 20.6108, 20.4967, 19.3786, 18.2487, 17.1131, 15.9894, 14.8925,\n",
       "        12.8249, 10.7743,  8.7131,  6.6012,  4.3971,  2.0853,  0.2877,  2.6260,\n",
       "         4.8526,  6.9339,  8.8351, 10.5048, 11.9330, 13.1697, 14.2777, 15.2988,\n",
       "        16.2498, 17.1291, 17.9223, 18.6083, 19.1685, 19.5970, 19.9052, 20.1187,\n",
       "        20.2690, 20.3863, 20.4953, 20.6127, 20.7479, 20.9047, 21.0845, 21.2880,\n",
       "        21.5163, 21.7710, 22.0533, 22.3636, 22.7005, 23.0618, 23.4441, 23.8443,\n",
       "        24.2597, 24.6888, 25.1319, 25.5905, 26.0666, 26.5614, 27.0744, 27.6034,\n",
       "        28.1444, 28.6927, 29.2428, 29.7894, 30.3277, 30.8534, 31.3633, 31.8550,\n",
       "        32.3272, 32.7795, 33.2126, 33.6275])"
      ]
     },
     "execution_count": 12,
     "metadata": {},
     "output_type": "execute_result"
    }
   ],
   "source": [
    "slice_data_true = data_ground_truth[slice_data]\n",
    "slice_data_pred = data_predicted[slice_data, :, middle]\n",
    "\n",
    "abs_data = abs(slice_data_true - slice_data_pred)\n",
    "abs_data"
   ]
  },
  {
   "cell_type": "code",
   "execution_count": 13,
   "id": "3ef20ce3",
   "metadata": {},
   "outputs": [
    {
     "data": {
      "text/plain": [
       "torch.Size([9184, 100])"
      ]
     },
     "execution_count": 13,
     "metadata": {},
     "output_type": "execute_result"
    }
   ],
   "source": [
    "data_ground_truth.shape"
   ]
  },
  {
   "cell_type": "code",
   "execution_count": 14,
   "id": "2ad8394b",
   "metadata": {},
   "outputs": [],
   "source": [
    "from soft_dtw_cuda import SoftDTW\n",
    "\n",
    "sdtw = SoftDTW(use_cuda=True, gamma=0.1)\n",
    "\n",
    "def smape_loss(y_pred, target):\n",
    "    # y_pred = y_pred.squeeze(2)\n",
    "    loss = 2 * abs((y_pred - target)) / (abs(y_pred) + abs(target) + 1e-8)\n",
    "    return loss.mean()*100"
   ]
  },
  {
   "cell_type": "code",
   "execution_count": 15,
   "id": "56be1b5b",
   "metadata": {},
   "outputs": [
    {
     "name": "stdout",
     "output_type": "stream",
     "text": [
      "Mean absolut error: 21.24298667907715\n",
      "Mean square error: 501.38507080078125\n",
      "smape loss: 107.87274932861328\n"
     ]
    }
   ],
   "source": [
    "# def soft_dtw(y_pred, target):\n",
    "#     #loss = sdtw(y_pred.unsqueeze(2), target.unsqueeze(2))\n",
    "#     loss = sdtw(y_pred[np.newaxis, :, np.newaxis],\n",
    "#                 target[np.newaxis, :, np.newaxis])\n",
    "    \n",
    "#     return loss.mean()\n",
    "\n",
    "slice_data_true = data_ground_truth[slice_data]\n",
    "slice_data_pred = data_predicted[slice_data, :, middle]\n",
    "\n",
    "abs_data = abs(slice_data_true - slice_data_pred)\n",
    "# Mean absolut error\n",
    "print(f\"Mean absolut error: {abs_data.mean()}\")\n",
    "\n",
    "sum_square = 0\n",
    "for i, elem in enumerate(slice_data_true):\n",
    "    sum_square += (slice_data_true[i] - slice_data_pred[i])**2\n",
    "\n",
    "sum_square = sum_square/(i+1)\n",
    "    \n",
    "#Mean square error\n",
    "print(f\"Mean square error: {sum_square}\")\n",
    "\n",
    "#SMAPE\n",
    "print(f\"smape loss: {smape_loss(slice_data_true, slice_data_pred)}\")\n",
    "\n",
    "#soft DTW\n",
    "\n",
    "# soft_dtw(slice_data_true, slice_data_pred)"
   ]
  },
  {
   "cell_type": "code",
   "execution_count": 11,
   "id": "56c56397",
   "metadata": {},
   "outputs": [
    {
     "name": "stdout",
     "output_type": "stream",
     "text": [
      "differents form: 98.02980297059212\n",
      "same form: 0.0\n"
     ]
    }
   ],
   "source": [
    "import numpy as np\n",
    "# In terms of interpreting the SMAPE, a value of zero indicates perfect accuracy,\n",
    "# while larger values indicate greater forecasting error. A SMAPE of 100%\n",
    "# indicates that the model's forecasts are completely off-base,\n",
    "# predicting values that are twice the actual values on average.\n",
    "\n",
    "\n",
    "print(f\"differents form: {smape_loss(np.arange(1,100), np.arange(100,1, -1))}\")\n",
    "print(f\"same form: {smape_loss(np.arange(1,100), np.arange(1, 100))}\")"
   ]
  },
  {
   "cell_type": "code",
   "execution_count": 12,
   "id": "09300e3b",
   "metadata": {},
   "outputs": [
    {
     "name": "stdout",
     "output_type": "stream",
     "text": [
      "0.02314814814814815\n",
      "9.120000000000001\n",
      "2.88\n"
     ]
    }
   ],
   "source": [
    "def transform_for_days(x):\n",
    "    x = (((x*10)/60)/60)/24\n",
    "    return x\n",
    "\n",
    "def transform_for_hour(x):\n",
    "    x = (x*24)\n",
    "    return x\n",
    "\n",
    "def transform_for_min(x):\n",
    "    x = (x*60)\n",
    "    return x\n",
    "\n",
    "print(transform_for_days(200))\n",
    "print(transform_for_hour(0.38))\n",
    "print(transform_for_hour(0.12))"
   ]
  },
  {
   "cell_type": "markdown",
   "id": "fdf78040",
   "metadata": {},
   "source": [
    "### Multiples windows"
   ]
  },
  {
   "cell_type": "code",
   "execution_count": 16,
   "id": "a0b93766",
   "metadata": {},
   "outputs": [],
   "source": [
    "def smape_loss(y_pred, target):\n",
    "    # y_pred = y_pred.squeeze(2)\n",
    "    loss = 2 * abs((y_pred - target)) / (abs(y_pred) + abs(target) + 1e-8)\n",
    "    return loss.mean() * 100\n",
    "\n",
    "\n",
    "def mean_absolute_error(slice_data_true, slice_data_pred):\n",
    "    abs_data = abs(slice_data_true - slice_data_pred)\n",
    "    return abs_data.mean()\n",
    "\n",
    "\n",
    "# Mean absolut error\n",
    "\n",
    "def mean_square_error(slice_data_true, slice_data_pred):\n",
    "    sum_square = 0\n",
    "    for i, elem in enumerate(slice_data_true):\n",
    "        sum_square += (slice_data_true[i] - slice_data_pred[i]) ** 2\n",
    "\n",
    "    sum_square = sum_square / (i + 1)\n",
    "\n",
    "    return sum_square\n"
   ]
  },
  {
   "cell_type": "code",
   "execution_count": 55,
   "id": "679a6d3e",
   "metadata": {},
   "outputs": [
    {
     "name": "stdout",
     "output_type": "stream",
     "text": [
      "Mean absolut error: 21.527729034423828\n",
      "smape loss: 96.41629028320312\n",
      "mean square error: 746.9388427734375\n"
     ]
    }
   ],
   "source": [
    "import numpy as np\n",
    "\n",
    "dict_metric = {\"mae\":[],\n",
    "               \"smape\":[],\n",
    "               \"mse\":[]}\n",
    "\n",
    "def avaliable_vector_auto_regressive_model(truth, prediction):\n",
    "    mae = mean_absolute_error(truth, prediction)\n",
    "    smape = smape_loss(prediction, truth)\n",
    "    mse = mean_square_error(truth, prediction)\n",
    "    return mae, smape, mse\n",
    "    \n",
    "\n",
    "#each window is 100\n",
    "slice_data = 91\n",
    "for i in range(slice_data):\n",
    "    \n",
    "    slice_data_true = data_ground_truth[slice_data]\n",
    "    slice_data_pred = data_predicted[slice_data, :, middle]\n",
    "    \n",
    "    mae, smape, mse = avaliable_vector_auto_regressive_model(slice_data_true,\n",
    "                                                             slice_data_pred)\n",
    "    \n",
    "    dict_metric[\"mae\"].append(float(mae))\n",
    "    dict_metric[\"smape\"].append(float(smape))\n",
    "    dict_metric[\"mse\"].append(float(mse))\n",
    "    \n",
    "\n",
    "print(f\"Mean absolut error: {np.array(dict_metric['mae']).mean()}\")\n",
    "print(f\"smape loss: {np.array(dict_metric['smape']).mean()}\")\n",
    "print(f\"mean square error: {np.array(dict_metric['mse']).mean()}\")"
   ]
  },
  {
   "cell_type": "code",
   "execution_count": null,
   "id": "878addd5",
   "metadata": {},
   "outputs": [],
   "source": []
  }
 ],
 "metadata": {
  "kernelspec": {
   "display_name": "Python 3 (ipykernel)",
   "language": "python",
   "name": "python3"
  },
  "language_info": {
   "codemirror_mode": {
    "name": "ipython",
    "version": 3
   },
   "file_extension": ".py",
   "mimetype": "text/x-python",
   "name": "python",
   "nbconvert_exporter": "python",
   "pygments_lexer": "ipython3",
   "version": "3.9.7"
  }
 },
 "nbformat": 4,
 "nbformat_minor": 5
}
